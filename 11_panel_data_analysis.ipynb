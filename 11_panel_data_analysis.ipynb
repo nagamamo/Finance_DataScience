{
  "nbformat": 4,
  "nbformat_minor": 0,
  "metadata": {
    "colab": {
      "provenance": [],
      "authorship_tag": "ABX9TyOEvcDRavmaeZWdV9g2Ut9y",
      "include_colab_link": true
    },
    "kernelspec": {
      "name": "python3",
      "display_name": "Python 3"
    },
    "language_info": {
      "name": "python"
    }
  },
  "cells": [
    {
      "cell_type": "markdown",
      "metadata": {
        "id": "view-in-github",
        "colab_type": "text"
      },
      "source": [
        "<a href=\"https://colab.research.google.com/github/nagamamo/financial_data_science/blob/main/11_panel_data_analysis.ipynb\" target=\"_parent\"><img src=\"https://colab.research.google.com/assets/colab-badge.svg\" alt=\"Open In Colab\"/></a>"
      ]
    },
    {
      "cell_type": "markdown",
      "source": [
        "11.　企業財務データのパネルデータ分析\n",
        "\n",
        "　本例では、2010年から2017年のクアラルンプール（マレーシア）上場企業の財務データを用い、企業の資本構成の決定理論が実証的に整合するかについての分析例を示します。パネルデータを分析するパッケージとして、linearmodels 4.27を用います。まず最初のセルを用いてこのパッケージをインストールします。"
      ],
      "metadata": {
        "id": "aaiF2Ej35fwc"
      }
    },
    {
      "cell_type": "code",
      "source": [
        "pip install linearmodels"
      ],
      "metadata": {
        "id": "XmignU-b53H8"
      },
      "execution_count": null,
      "outputs": []
    },
    {
      "cell_type": "markdown",
      "source": [
        "　パッケージのインストール後、ライブラリのインポートを行います。パネルデータ分析用のライブラリは変量効果モデル、固定効果モデル、プーリングOLS、それぞれのライブラリをインポートします。3つの推計結果の一覧表を作成するためのライブラリも併せて読み込みます。"
      ],
      "metadata": {
        "id": "y21Ym8F_57v1"
      }
    },
    {
      "cell_type": "code",
      "source": [
        "#[1]ライブラリの読み込み\n",
        "import pandas as pd\n",
        "from linearmodels import RandomEffects #変量効果モデルのライブラリ\n",
        "from linearmodels import PanelOLS #固定効果モデルのライブラリ\n",
        "from linearmodels import PooledOLS #プーリングOLSモデルのライブラリ\n",
        "from linearmodels.panel import compare #一覧表作成のライブラリ\n",
        "import statsmodels.api as sm"
      ],
      "metadata": {
        "id": "_DII2C154kbm"
      },
      "execution_count": 2,
      "outputs": []
    },
    {
      "cell_type": "markdown",
      "source": [
        "　本例では、クアラルンプール上場企業の財務データをGitHubから取得します。取得したデータはdfというデータフレーム名で、pandasデータフレームに保存します。ちなみに読み込んだ変数名の定義は次の通りです。\n",
        "\n",
        "year：決算年,\n",
        "firm:企業番号,\n",
        "DER：負債・資本（時価）比率\t各企業の各年度の負債／時価資本,\n",
        "ROA：総資産利益率\t\t各企業の各年度の純利益／総資産,\n",
        "Ebit_Asset：EBIT対総資産比率\t各企業の各年度の利払・税引前利益／総資産,\n",
        "Asset：総資産残高規模\t\t各企業の各年度の総資産残高（百万USD）の自然対数値,\n",
        "Tangible_sales：固定資産対売上高比　各企業の各年度の固定資産の売上高比,\n",
        "ICR：金利負担余力\t\t各企業の各年度のキャッシュフロー対支払金利比\n"
      ],
      "metadata": {
        "id": "ZR2IuhlN6FVM"
      }
    },
    {
      "cell_type": "code",
      "source": [
        "#[2]標本データの取得\n",
        "url = \"https://github.com/nagamamo/data/blob/main/11_malaysian_firm_data.csv?raw=true\"#Git-hubからCSVデータの入手\n",
        "df = pd.read_csv(url)#データフレームの作成"
      ],
      "metadata": {
        "id": "h9LIUpqHj0C5"
      },
      "execution_count": 3,
      "outputs": []
    },
    {
      "cell_type": "markdown",
      "source": [
        "  [3]ではpandasデータフレームのデータをパネルデータとして用いるための前処理を行います。具体的には、時間(year）と企業（firm）の２つのデータ定義をデータフレームに含めることで、後述のパネルデータ推計が行える処理をします。"
      ],
      "metadata": {
        "id": "DjxyPwdE6fdr"
      }
    },
    {
      "cell_type": "code",
      "source": [
        "#[3]データ前処理\n",
        "year=pd.Categorical(df.year) #時間カテゴリー変数の作成と定義\n",
        "df['year']=year\n",
        "df=df.set_index(['year','firm']) #パネルデータ定義\n",
        "df.head()"
      ],
      "metadata": {
        "id": "DUvYJjACFfXc"
      },
      "execution_count": 4,
      "outputs": []
    },
    {
      "cell_type": "markdown",
      "source": [
        "　変量効果モデルの推計を行います。説明変数にはROA、ASSET、Tabgible_salesを選択し、被説明変数にはDERを選択します。mod=RandomEffects()の（）内に被説明変数と、一行目で選択した説明変数のグループ名を記述します。"
      ],
      "metadata": {
        "id": "AG2Emgat6nbX"
      }
    },
    {
      "cell_type": "code",
      "source": [
        "#[4]変量効果モデルの推計\n",
        "exog_vars=['ROA','ASSET','Tangible_sales'] #説明変数の選択\n",
        "exog=sm.add_constant(df[exog_vars]) #定数項の指示\n",
        "mod=RandomEffects(df.DER,exog) #実証モデルの指示\n",
        "re_res=mod.fit()\n",
        "re_res #実証結果の表示"
      ],
      "metadata": {
        "id": "cqOl9MMO44It"
      },
      "execution_count": null,
      "outputs": []
    },
    {
      "cell_type": "markdown",
      "source": [
        "　同様の手順で、固定効果モデル、プーリングOLSモデルを推計します。重要な点は、３つの推計のうち、固定効果モデルのみ、time_effects=Trueと記述することで、時間効果を推計モデルに加えている点です。また、mod=PanelOLS()では、（）内にentity_effects=Trueと定義することで、固定効果の存在を指示しています。"
      ],
      "metadata": {
        "id": "f9N18WyY7P3R"
      }
    },
    {
      "cell_type": "code",
      "source": [
        "#[5]固定効果モデルの推計\n",
        "exog_vars=['ROA','ASSET','Tangible_sales']\n",
        "exog=sm.add_constant(df[exog_vars])\n",
        "mod=PanelOLS(df.DER,exog,entity_effects=True,time_effects=True) #固定効果と時間効果を=True\n",
        "fe_res=mod.fit()\n",
        "fe_res"
      ],
      "metadata": {
        "id": "3228_TPobFZ0"
      },
      "execution_count": null,
      "outputs": []
    },
    {
      "cell_type": "code",
      "source": [
        "#[6]プーリングOLSモデル\n",
        "exog_vars=['ROA','ASSET','Tangible_sales']\n",
        "exog=sm.add_constant(df[exog_vars])\n",
        "mod=PooledOLS(df.DER,exog)\n",
        "pooled_res=mod.fit()\n",
        "pooled_res"
      ],
      "metadata": {
        "id": "m8XF33VxEzhb"
      },
      "execution_count": null,
      "outputs": []
    },
    {
      "cell_type": "markdown",
      "source": [
        "最後に３つの実証モデル推計の結果一覧表を表示します。"
      ],
      "metadata": {
        "id": "sEIJQMlf7erg"
      }
    },
    {
      "cell_type": "code",
      "source": [
        "#[7]結果一覧表の表示\n",
        "compare({\"RE\":re_res,\"FE\":fe_res,\"Pooled\":pooled_res})"
      ],
      "metadata": {
        "colab": {
          "base_uri": "https://localhost:8080/",
          "height": 613
        },
        "id": "3XHTNMh8rC9t",
        "outputId": "f251d2ae-cf7c-450d-d171-fb0859df2676"
      },
      "execution_count": 9,
      "outputs": [
        {
          "output_type": "execute_result",
          "data": {
            "text/plain": [
              "                            Model Comparison                           \n",
              "=======================================================================\n",
              "                                       RE             FE         Pooled\n",
              "-----------------------------------------------------------------------\n",
              "Dep. Variable                         DER            DER            DER\n",
              "Estimator                   RandomEffects       PanelOLS      PooledOLS\n",
              "No. Observations                     6591           6591           6591\n",
              "Cov. Est.                      Unadjusted     Unadjusted     Unadjusted\n",
              "R-squared                          0.0218         0.0054         0.0217\n",
              "R-Squared (Within)                 0.0219         0.0209         0.0219\n",
              "R-Squared (Between)               -0.0606        -0.0405        -0.0604\n",
              "R-Squared (Overall)                0.0217         0.0208         0.0217\n",
              "F-statistic                        48.846         10.312         48.786\n",
              "P-value (F-stat)                   0.0000         0.0000         0.0000\n",
              "=====================     ===============   ============   ============\n",
              "const                             -0.2055         0.1276        -0.2046\n",
              "                                (-1.3725)       (0.5192)      (-1.3878)\n",
              "ROA                               -0.0729        -0.0422        -0.0729\n",
              "                                (-1.8755)      (-1.3356)      (-1.8763)\n",
              "ASSET                              0.3531         0.2818         0.3528\n",
              "                                 (12.063)       (5.4911)       (12.055)\n",
              "Tangible_sales                    -0.0041        -0.0010        -0.0040\n",
              "                                (-0.5143)      (-0.1407)      (-0.5009)\n",
              "======================= ================= ============== ==============\n",
              "Effects                                           Entity               \n",
              "                                                    Time               \n",
              "-----------------------------------------------------------------------\n",
              "\n",
              "T-stats reported in parentheses\n",
              "PanelModelComparison, id: 0x7ff2972c6dc0"
            ],
            "text/html": [
              "<table class=\"simpletable\">\n",
              "<caption>Model Comparison</caption>\n",
              "<tr>\n",
              "             <td></td>                    <th>RE</th>               <th>FE</th>           <th>Pooled</th>    \n",
              "</tr>\n",
              "<tr>\n",
              "  <th>Dep. Variable</th>                  <td>DER</td>              <td>DER</td>            <td>DER</td>     \n",
              "</tr>\n",
              "<tr>\n",
              "  <th>Estimator</th>                 <td>RandomEffects</td>      <td>PanelOLS</td>       <td>PooledOLS</td>  \n",
              "</tr>\n",
              "<tr>\n",
              "  <th>No. Observations</th>              <td>6591</td>             <td>6591</td>           <td>6591</td>     \n",
              "</tr>\n",
              "<tr>\n",
              "  <th>Cov. Est.</th>                  <td>Unadjusted</td>       <td>Unadjusted</td>     <td>Unadjusted</td>  \n",
              "</tr>\n",
              "<tr>\n",
              "  <th>R-squared</th>                    <td>0.0218</td>           <td>0.0054</td>         <td>0.0217</td>    \n",
              "</tr>\n",
              "<tr>\n",
              "  <th>R-Squared (Within)</th>           <td>0.0219</td>           <td>0.0209</td>         <td>0.0219</td>    \n",
              "</tr>\n",
              "<tr>\n",
              "  <th>R-Squared (Between)</th>          <td>-0.0606</td>          <td>-0.0405</td>        <td>-0.0604</td>   \n",
              "</tr>\n",
              "<tr>\n",
              "  <th>R-Squared (Overall)</th>          <td>0.0217</td>           <td>0.0208</td>         <td>0.0217</td>    \n",
              "</tr>\n",
              "<tr>\n",
              "  <th>F-statistic</th>                  <td>48.846</td>           <td>10.312</td>         <td>48.786</td>    \n",
              "</tr>\n",
              "<tr>\n",
              "  <th>P-value (F-stat)</th>             <td>0.0000</td>           <td>0.0000</td>         <td>0.0000</td>    \n",
              "</tr>\n",
              "<tr>\n",
              "  <th>=====================</th>    <td>===============</td>   <td>============</td>   <td>============</td> \n",
              "</tr>\n",
              "<tr>\n",
              "  <th>const</th>                        <td>-0.2055</td>          <td>0.1276</td>         <td>-0.2046</td>   \n",
              "</tr>\n",
              "<tr>\n",
              "  <th> </th>                           <td>(-1.3725)</td>        <td>(0.5192)</td>       <td>(-1.3878)</td>  \n",
              "</tr>\n",
              "<tr>\n",
              "  <th>ROA</th>                          <td>-0.0729</td>          <td>-0.0422</td>        <td>-0.0729</td>   \n",
              "</tr>\n",
              "<tr>\n",
              "  <th> </th>                           <td>(-1.8755)</td>        <td>(-1.3356)</td>      <td>(-1.8763)</td>  \n",
              "</tr>\n",
              "<tr>\n",
              "  <th>ASSET</th>                        <td>0.3531</td>           <td>0.2818</td>         <td>0.3528</td>    \n",
              "</tr>\n",
              "<tr>\n",
              "  <th> </th>                           <td>(12.063)</td>         <td>(5.4911)</td>       <td>(12.055)</td>   \n",
              "</tr>\n",
              "<tr>\n",
              "  <th>Tangible_sales</th>               <td>-0.0041</td>          <td>-0.0010</td>        <td>-0.0040</td>   \n",
              "</tr>\n",
              "<tr>\n",
              "  <th> </th>                           <td>(-0.5143)</td>        <td>(-0.1407)</td>      <td>(-0.5009)</td>  \n",
              "</tr>\n",
              "<tr>\n",
              "  <th>=======================</th> <td>=================</td> <td>==============</td> <td>==============</td>\n",
              "</tr>\n",
              "<tr>\n",
              "  <th>Effects</th>                         <td></td>              <td>Entity</td>            <td></td>       \n",
              "</tr>\n",
              "<tr>\n",
              "  <th></th>                                <td></td>               <td>Time</td>             <td></td>       \n",
              "</tr>\n",
              "</table><br/><br/>T-stats reported in parentheses<br/>id: 0x7ff2972c6dc0"
            ]
          },
          "metadata": {},
          "execution_count": 9
        }
      ]
    }
  ]
}