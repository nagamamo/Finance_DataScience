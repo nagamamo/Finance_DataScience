{
  "nbformat": 4,
  "nbformat_minor": 0,
  "metadata": {
    "colab": {
      "provenance": [],
      "include_colab_link": true
    },
    "kernelspec": {
      "name": "python3",
      "display_name": "Python 3"
    },
    "language_info": {
      "name": "python"
    }
  },
  "cells": [
    {
      "cell_type": "markdown",
      "metadata": {
        "id": "view-in-github",
        "colab_type": "text"
      },
      "source": [
        "<a href=\"https://colab.research.google.com/github/nagamamo/financial_data_science/blob/main/7_2_bond_duration.ipynb\" target=\"_parent\"><img src=\"https://colab.research.google.com/assets/colab-badge.svg\" alt=\"Open In Colab\"/></a>"
      ]
    },
    {
      "cell_type": "markdown",
      "source": [
        "7.　債券投資理論とデュレーション\n",
        "\n",
        "　デュレーションの算出は、償還期間n、クーポンレートci、複利最終利回りr、額面価格Nを定義式に与えることで算出可能です。一方で、即時グロス決済に要する営業日数、年間営業日の設定など、実務の現場で応用するには細かい設定が必要となります。このため本例では数理ファイナンス実務のために開発されたオープンソース・ソフトウェア・ライブラリのQuantLibを用いて実装を行います。まず、このQuantLibソフトウェアをGoogle Colab上で、ひとつのコードセルのみを用いてインストールします。"
      ],
      "metadata": {
        "id": "b1HRWcqakb3K"
      }
    },
    {
      "cell_type": "code",
      "source": [
        "pip install QuantLib"
      ],
      "metadata": {
        "id": "Agj3ggoCkaPq"
      },
      "execution_count": null,
      "outputs": []
    },
    {
      "cell_type": "markdown",
      "source": [
        "　QuantLibがインストールされれば、次にこのライブラリを数値演算ライブラリのnumpyとともにインポートします。"
      ],
      "metadata": {
        "id": "bugSyXlYlPDF"
      }
    },
    {
      "cell_type": "code",
      "source": [
        "#[1]ライブラリの読み込み\n",
        "import QuantLib as ql#数理ファイナンス・ライブラリのインポート\n",
        "import numpy as np"
      ],
      "metadata": {
        "id": "BjPDNGVAVonk"
      },
      "execution_count": null,
      "outputs": []
    },
    {
      "cell_type": "markdown",
      "source": [
        "　次に、償還期間n、クーポンレートci、複利最終利回りr、額面価格Nの4つのデータを与えます。本例は確定利付債のため、ciは期間を通じてすべて等しい支払（受取）額となります。本例では令和4年度個人向け国債新窓販国債367回債（償還期間10年）を参考に、10年債の4条件の設定を下記の通りとしました。"
      ],
      "metadata": {
        "id": "Q7Jubc-IlV_R"
      }
    },
    {
      "cell_type": "code",
      "source": [
        "#[2]償還期間・クーポーン・利回りの設定\n",
        "#368回債の場合(2022年11月8日発行)\n",
        "n = 3650#償還期間10年  \n",
        "c = 0.002#クーポン・レート\n",
        "r = 0.00248#複利最終利回り\n",
        "N = 100#額面価格"
      ],
      "metadata": {
        "id": "MnfSpKMrVo5r"
      },
      "execution_count": null,
      "outputs": []
    },
    {
      "cell_type": "markdown",
      "source": [
        "　続いて発行日と償還期間を設定します。発行日を「本日」として、q.l.Dateにより[2]の設定が日次データであることを定義します。厳密に国債367回債の発行日を指定する場合は、start = ql.Date(8,11,2022)\n",
        "と記述してください。 q.Periodは時間データの頻度を定義する関数であり、これを用いて「本日」を基準とする日付に償還日数加えることで、”maturity”を定義します。\n"
      ],
      "metadata": {
        "id": "EDp3XdzDlkpD"
      }
    },
    {
      "cell_type": "code",
      "source": [
        "#[3]発行日・償還期間の設定\n",
        "start = ql.Date(8,11,2022)#厳密に発行日を記入する\n",
        "maturity = start + ql.Period(n, ql.Days)#[2]nを用い償還期間を設定"
      ],
      "metadata": {
        "id": "hzWic5LzWCLB"
      },
      "execution_count": null,
      "outputs": []
    },
    {
      "cell_type": "markdown",
      "source": [
        "　最後に確定利付債のための関数であるql.FixedRateBond()を用いてデュレーションを算出します。ql.FixedRateBondの（）内には左から順に、決済日数、決済手段、額面価格、発行日、償還期間、時間頻度、クーポン・レート、年間の営業日数を入力します。TARGETはTrans-European Automated Real-time Gross Settlement Express Transferの略です。本例の決済手段はこれを入力し、債券決済期間として2営業日（T+1）を入力しています。利回り（rate）の場合はql.InterestRate()を用い、最終利回り、年間営業日数、複利か否か、年率か否か、を順に指示します。年間営業日数は365日ql.Actual365Fixed()と360日ql.Actual365Fixed()いずれの算出方法も指定可能ですが、本例では前者を用いています。"
      ],
      "metadata": {
        "id": "33PgG0WmlxSg"
      }
    },
    {
      "cell_type": "code",
      "source": [
        "#[4]デュレーションの算出\n",
        "bond = ql.FixedRateBond(2, ql.TARGET(), N, start, maturity, ql.Period(n,ql.Days), [c], ql.Actual365Fixed())#債券の決済期間・額面・発行・償還日・頻度他を順に設定\n",
        "rate = ql.InterestRate(r, ql.Actual365Fixed(), ql.Compounded, ql.Annual)#利回り・年間営業日数・複利・年間利回りを順に設定\n",
        "norm_duration = ql.BondFunctions.duration(bond, rate, ql.Duration.Simple)#デュレーションの算出\n",
        "mod_duration = ql.BondFunctions.duration(bond, rate, ql.Duration.Modified)#修正デュレーションの算出\n",
        "mac_duration = ql.BondFunctions.duration(bond, rate, ql.Duration.Macaulay)#マコーレー・デュレーションの算出"
      ],
      "metadata": {
        "id": "Tbk7KXX8WGrP"
      },
      "execution_count": null,
      "outputs": []
    },
    {
      "cell_type": "markdown",
      "source": [
        "　本例の10年債の修正デュレーションとマコーレー・デュレーションの算出結果は下記の通りです。上記のsource codeに令和4年度個人向け国債第147回債（償還期間3年）の4条件を[3]で与えると、デュレーションはより小さくなります。"
      ],
      "metadata": {
        "id": "i4W7lbR6mG5e"
      }
    },
    {
      "cell_type": "code",
      "source": [
        "#[5]デュレーション算出結果の表示\n",
        "print('normal_duration:{}'.format(np.round(norm_duration,decimals=3)))#算出結果の表示\n",
        "print('modified_duration:{}'.format(np.round(mod_duration,decimals=3)))#算出結果の表示\n",
        "print('macaulay_duration:{}'.format(np.round(mac_duration,decimals=3)))"
      ],
      "metadata": {
        "id": "XMemO1E-eTjd",
        "colab": {
          "base_uri": "https://localhost:8080/"
        },
        "outputId": "b01dda09-9530-4d04-9135-cf14f581d5af"
      },
      "execution_count": null,
      "outputs": [
        {
          "output_type": "stream",
          "name": "stdout",
          "text": [
            "normal_duration:9.83\n",
            "modified_duration:9.806\n",
            "macaulay_duration:9.83\n"
          ]
        }
      ]
    }
  ]
}
