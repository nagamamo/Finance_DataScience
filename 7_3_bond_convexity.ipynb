{
  "nbformat": 4,
  "nbformat_minor": 0,
  "metadata": {
    "colab": {
      "provenance": [],
      "authorship_tag": "ABX9TyO+kmYdtWs/0ASvwTFLQff+",
      "include_colab_link": true
    },
    "kernelspec": {
      "name": "python3",
      "display_name": "Python 3"
    },
    "language_info": {
      "name": "python"
    }
  },
  "cells": [
    {
      "cell_type": "markdown",
      "metadata": {
        "id": "view-in-github",
        "colab_type": "text"
      },
      "source": [
        "<a href=\"https://colab.research.google.com/github/nagamamo/financial_data_science/blob/main/7_3_bond_convexity.ipynb\" target=\"_parent\"><img src=\"https://colab.research.google.com/assets/colab-badge.svg\" alt=\"Open In Colab\"/></a>"
      ]
    },
    {
      "cell_type": "markdown",
      "source": [
        "7.3　債券コンベクシティの算出\n",
        "\n",
        "　債券利回り価格曲線には、文字通り、デュレーションの直線に対し、大なり小なり、緩やかな凸状のカーブが存在することがわかります。債券投資分析ではデュレーションに加えて、コンベクシティを計測することで、利回り変化がもたらす価格変動の正確な計測を試みています。本例も数理ファイナンス実務のために開発されたオープンソース・ソフトウェア・ライブラリのQuantLibを用いて実装します。前節同様、このQuantLibソフトウェアをGoogle Colab上で、ひとつのコードセルのみを用いてインストールします。"
      ],
      "metadata": {
        "id": "qs31qOTcYCJ4"
      }
    },
    {
      "cell_type": "code",
      "source": [
        "pip install QuantLib"
      ],
      "metadata": {
        "id": "WxMQvaNLYjEb"
      },
      "execution_count": null,
      "outputs": []
    },
    {
      "cell_type": "markdown",
      "source": [
        "　ライブラリはQuantLibとnumpyの2つをインポートします。"
      ],
      "metadata": {
        "id": "tRkF6gkHYr9F"
      }
    },
    {
      "cell_type": "code",
      "source": [
        "#[1]ライブラリの読み込み\n",
        "import QuantLib as ql#数理ファイナンス・ライブラリのインポート\n",
        "import numpy as np#数値演算ライブラリのインポート"
      ],
      "metadata": {
        "id": "yyeX3KzqAjAD"
      },
      "execution_count": 10,
      "outputs": []
    },
    {
      "cell_type": "markdown",
      "source": [
        "　本例においても、令和6年度国債82回債（償還期間30年）を参考に、30年債の3条件(クーポンレート、最終利回り、額面価格）を設定し、償還期間の違いによるコンベクシティを計算します。"
      ],
      "metadata": {
        "id": "rO3KM97TZcQ-"
      }
    },
    {
      "cell_type": "code",
      "source": [
        "#[2]償還期間・クーポーン・利回りの設定\n",
        "c = 0.018#クーポン・レート\n",
        "r = 0.02161#複利最終利回り\n",
        "N = 100#額面価格"
      ],
      "metadata": {
        "id": "HVWgDGTnAc0h"
      },
      "execution_count": 17,
      "outputs": []
    },
    {
      "cell_type": "markdown",
      "source": [
        "　次に発行日と償還期間および債券発行スケジュールの詳細を設定します。本例では令和6年に発行された30年国債(第82回債）を用いています。各発行債券ごとに、発行日、償還日を入力してください。国・地域により祝日、非営業日が異なるため、米国債や英国債のコンベクシティを算出する場合は、4行目を\n",
        "https://quantlib-python-docs.readthedocs.io/en/latest/instruments/bonds.html\n",
        "に基づき変更すること。"
      ],
      "metadata": {
        "id": "7pnZIUr2acyp"
      }
    },
    {
      "cell_type": "code",
      "source": [
        "#[3]発行日・償還期間・スケジュールの設定\n",
        "schedule = ql.Schedule(\n",
        "    ql.Date(16, 6, 2024),       #発行日\n",
        "    ql.Date(20, 3, 2054),       #償還日\n",
        "    ql.Period(0, ql.Months),    #間隔\n",
        "    ql.Japan(),                 #祝休日等の国別カレンダー指定\n",
        "    ql.Unadjusted,              #非営業日調整\n",
        "    ql.Unadjusted,              #終了日の非営業日調整\n",
        "    ql.DateGeneration.Backward, #日付生成のルール\n",
        "    False,                      #開始日が月末の場合に終了日以外の利払日を月末とするか否か\n",
        ")"
      ],
      "metadata": {
        "id": "v8CL2420wMWc"
      },
      "execution_count": 12,
      "outputs": []
    },
    {
      "cell_type": "markdown",
      "source": [
        "　続いて[4]ではbond=ql.FixedRateBond（）とrate=ql.InterestRate()により、債券と利回りの条件を設定します。その後、3行目にcvx=ql.BondFunctions.convexity()を記述し、1行目と2行目の債券と利回りの変数名を入力することで、コンベキシティを計算します。"
      ],
      "metadata": {
        "id": "Y9Kiz2PDaETP"
      }
    },
    {
      "cell_type": "code",
      "source": [
        "#[4]コンベキシティの算出：債券の条件設定\n",
        "bond = ql.FixedRateBond(\n",
        "    2,                  #決済に要する日数\n",
        "    N,                  #額面\n",
        "    schedule,           #利払日\n",
        "    [c],                #クーポンレート\n",
        "    ql.Actual365Fixed() #日数計算方法\n",
        ")"
      ],
      "metadata": {
        "id": "uoX_ElPttO0v"
      },
      "execution_count": 13,
      "outputs": []
    },
    {
      "cell_type": "code",
      "source": [
        "#[5]コンベキシティの算出：利回りの条件設定\n",
        "rate = ql.InterestRate(\n",
        "    r,                  #最終利回り\n",
        "    ql.Actual360(),     #営業日数計算方法\n",
        "    ql.Compounded,      #複利か否か\n",
        "    ql.Annual           #年間利回りか否か\n",
        ")"
      ],
      "metadata": {
        "id": "1WeRVAezuISI"
      },
      "execution_count": 18,
      "outputs": []
    },
    {
      "cell_type": "code",
      "source": [
        "#[6]コンベキシティの算出：実装\n",
        "cvx = ql.BondFunctions.convexity(bond, rate)#コンベクシティの算出"
      ],
      "metadata": {
        "id": "T-FI3GdWuLXP"
      },
      "execution_count": 21,
      "outputs": []
    },
    {
      "cell_type": "markdown",
      "source": [
        "　最後に30年債(第82回債)のコンベクシティの算出結果を可視化するためのソースコードを記述します。"
      ],
      "metadata": {
        "id": "3TTatHRVbQQX"
      }
    },
    {
      "cell_type": "code",
      "source": [
        "#[7]コンベクシティ算出結果の表示\n",
        "print('convex:{}'.format(np.round(cvx,decimals=3)))#算出結果の表示"
      ],
      "metadata": {
        "colab": {
          "base_uri": "https://localhost:8080/"
        },
        "id": "UH2VX6F6A5sc",
        "outputId": "eda76879-53d1-47aa-e4ae-87c84afba2ff"
      },
      "execution_count": 22,
      "outputs": [
        {
          "output_type": "stream",
          "name": "stdout",
          "text": [
            "convex:902.473\n"
          ]
        }
      ]
    }
  ]
}