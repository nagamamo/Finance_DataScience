{
  "nbformat": 4,
  "nbformat_minor": 0,
  "metadata": {
    "colab": {
      "provenance": [],
      "authorship_tag": "ABX9TyOuhCRXXLUMDpo95sTYVsX/",
      "include_colab_link": true
    },
    "kernelspec": {
      "name": "python3",
      "display_name": "Python 3"
    },
    "language_info": {
      "name": "python"
    }
  },
  "cells": [
    {
      "cell_type": "markdown",
      "metadata": {
        "id": "view-in-github",
        "colab_type": "text"
      },
      "source": [
        "<a href=\"https://colab.research.google.com/github/nagamamo/financial_data_science/blob/main/7_3_bond_convexity.ipynb\" target=\"_parent\"><img src=\"https://colab.research.google.com/assets/colab-badge.svg\" alt=\"Open In Colab\"/></a>"
      ]
    },
    {
      "cell_type": "markdown",
      "source": [
        "7.3　債券コンベキシティの算出\n",
        "\n",
        "　債券利回り価格曲線には、文字通り、デュレーションの直線に対し、大なり小なり、緩やかな凸状のカーブが存在することがわかります。債券投資分析ではデュレーションに加えて、コンベキシティを計測することで、利回り変化がもたらす価格変動の正確な計測を試みています。本例も数理ファイナンス実務のために開発されたオープンソース・ソフトウェア・ライブラリのQuantLibを用いて実装しますます。前節同様、このQuantLibソフトウェアをGoogle Colab上で、ひとつのコードセルのみを用いてインストールします。"
      ],
      "metadata": {
        "id": "qs31qOTcYCJ4"
      }
    },
    {
      "cell_type": "code",
      "source": [
        "pip install QuantLib"
      ],
      "metadata": {
        "id": "WxMQvaNLYjEb"
      },
      "execution_count": null,
      "outputs": []
    },
    {
      "cell_type": "markdown",
      "source": [
        "　ライブラリはQuantLibとnumpyの2つをインポートします。"
      ],
      "metadata": {
        "id": "tRkF6gkHYr9F"
      }
    },
    {
      "cell_type": "code",
      "source": [
        "#[1]ライブラリの読み込み\n",
        "import QuantLib as ql#数理ファイナンス・ライブラリのインポート\n",
        "import numpy as np#数値演算ライブラリのインポート"
      ],
      "metadata": {
        "id": "yyeX3KzqAjAD"
      },
      "execution_count": 2,
      "outputs": []
    },
    {
      "cell_type": "markdown",
      "source": [
        "　本例においても、令和4年度個人向け新窓販国債367回債（償還期間10年）を参考に、10年債の4条件(償還期間、クーポンレート、最終利回り、額面価格）を設定し、償還期間の違いによるコンベキシティを計算します。"
      ],
      "metadata": {
        "id": "rO3KM97TZcQ-"
      }
    },
    {
      "cell_type": "code",
      "source": [
        "#[2]償還期間・クーポーン・利回りの設定\n",
        "n = 3650#償還期間10年  \n",
        "c = 0.002#クーポン・レート\n",
        "r = 0.013#複利最終利回り\n",
        "N = 100#額面価格"
      ],
      "metadata": {
        "id": "HVWgDGTnAc0h"
      },
      "execution_count": 3,
      "outputs": []
    },
    {
      "cell_type": "markdown",
      "source": [
        "　次に発行日と償還期間を設定します。本例では本日を発行日としています。これを令和4年11月8日とする場合にはstart=ql.Date(8,11,2022)と記述してください。"
      ],
      "metadata": {
        "id": "7pnZIUr2acyp"
      }
    },
    {
      "cell_type": "code",
      "source": [
        "#[3]発行日・償還期間の設定\n",
        "start = ql.Date().todaysDate()#本日を発行日とする\n",
        "maturity = start + ql.Period(n, ql.Days)#[2]nを用い償還期間を設定"
      ],
      "metadata": {
        "id": "9eS0mO7QArD4"
      },
      "execution_count": 4,
      "outputs": []
    },
    {
      "cell_type": "markdown",
      "source": [
        "　続いて[4]ではbond=ql.FixedRateBond（）とrate=ql.InterestRate()により、債券と利回りの条件を設定します。その後、3行目にcvx=ql.BondFunctions.convexity()を記述し、1行目と2行目の債券と利回りの変数名を入力することで、コンベキシティを計算します。"
      ],
      "metadata": {
        "id": "Y9Kiz2PDaETP"
      }
    },
    {
      "cell_type": "code",
      "source": [
        "#[4]コンベキシティの算出\n",
        "#bond = ql.FixedRateBond(2, ql.TARGET(), N, start, maturity, ql.Period('10Y'), [c], ql.Actual360())#債券の決済期間・額面・発行・償還日・頻度他を順に設定\n",
        "bond = ql.FixedRateBond(2, ql.TARGET(), N, start, maturity, ql.Period(n,ql.Days), [c], ql.Actual360())#債券の決済期間・額面・発行・償還日・頻度他を順に設定\n",
        "rate = ql.InterestRate(r, ql.Actual360(), ql.Compounded, ql.Annual)#利回り・年間営業日数・複利・年間利回りを順に設定\n",
        "cvx = ql.BondFunctions.convexity(bond, rate)#コンベクシティの算出"
      ],
      "metadata": {
        "id": "8G1zXdQ3Axxq"
      },
      "execution_count": 5,
      "outputs": []
    },
    {
      "cell_type": "markdown",
      "source": [
        "　最後に10年債のコンベクシティの算出結果を可視化するためのソースコードを記述します。ちなみに、令和4年度個人向け国債第147回債（償還期間3年）のn(償還期間),c(クーポンレート),r(最終利回り),N(額面価格)を[3]で入力すると、算出結果は11.667となります。"
      ],
      "metadata": {
        "id": "3TTatHRVbQQX"
      }
    },
    {
      "cell_type": "code",
      "source": [
        "#[5]コンベクシティ算出結果の表示\n",
        "print('convex:{}'.format(np.round(cvx,decimals=3)))#算出結果の表示"
      ],
      "metadata": {
        "colab": {
          "base_uri": "https://localhost:8080/"
        },
        "id": "UH2VX6F6A5sc",
        "outputId": "acc44732-ee6d-4d7b-ce64-79b21b419269"
      },
      "execution_count": 7,
      "outputs": [
        {
          "output_type": "stream",
          "name": "stdout",
          "text": [
            "convex:109.883\n"
          ]
        }
      ]
    }
  ]
}