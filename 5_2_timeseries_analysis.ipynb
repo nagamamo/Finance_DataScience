{
  "nbformat": 4,
  "nbformat_minor": 0,
  "metadata": {
    "colab": {
      "provenance": [],
      "authorship_tag": "ABX9TyOawphohFr+Yzz7DWAusqY2",
      "include_colab_link": true
    },
    "kernelspec": {
      "name": "python3",
      "display_name": "Python 3"
    },
    "language_info": {
      "name": "python"
    }
  },
  "cells": [
    {
      "cell_type": "markdown",
      "metadata": {
        "id": "view-in-github",
        "colab_type": "text"
      },
      "source": [
        "<a href=\"https://colab.research.google.com/github/nagamamo/financial_data_science/blob/main/5_2_timeseries_analysis.ipynb\" target=\"_parent\"><img src=\"https://colab.research.google.com/assets/colab-badge.svg\" alt=\"Open In Colab\"/></a>"
      ]
    },
    {
      "cell_type": "markdown",
      "source": [
        "5.2　Prophetによる日経平均株価の予測\n",
        "\n",
        "以下では、Prophetを用いた株価の予測例を紹介します。ライブラリは、まず数値計算用のpandas、データ取得を目的とするpandas datareader、標本期間を指定するためのdatetime、時系列モデルにベイズ統計を用いるためのstan、そして時系列モデル用のprophet、最後に図表用のライブラリであるmatplotlibを読み込みます。Prophetではベイズ統計を用いることで、新たな情報（データ）が加わる度に、予測時の確率分布を変化させます。"
      ],
      "metadata": {
        "id": "TsamR5VMn20A"
      }
    },
    {
      "cell_type": "code",
      "source": [
        "#[1]ライブラリ読み込み\n",
        "import pandas as pd\n",
        "import pandas_datareader as data\n",
        "import datetime\n",
        "import stan #ベイズ統計利用のためのライブラリ\n",
        "from prophet import Prophet #時系列モデル用ライブラリ\n",
        "import matplotlib.pyplot as plt "
      ],
      "metadata": {
        "id": "yNUgZ86HoRc4"
      },
      "execution_count": 1,
      "outputs": []
    },
    {
      "cell_type": "markdown",
      "source": [
        "続いて日経平均株価のヒストリカル・データを取得します。今回はpandas_datareaderを用いる際に（）内に直接証券コードを書き込むため、冒頭にティッカーコードは指定しません。"
      ],
      "metadata": {
        "id": "Bdopsm5m77jr"
      }
    },
    {
      "cell_type": "code",
      "source": [
        "#[2]データ取得\n",
        "start=datetime.date(2021,1,1)#標本期間を2021年1月1日から\n",
        "end=datetime.date(2022,11,30)#2022年11月30日までに指定\n",
        "nikkei=data.DataReader('^NKX','stooq',start=start,end=end).sort_values(by='Date',ascending=True)"
      ],
      "metadata": {
        "id": "9FVu9uL5wIr1"
      },
      "execution_count": 2,
      "outputs": []
    },
    {
      "cell_type": "markdown",
      "source": [
        "Prophetでは変数名を日時＝'ds'、予測する変数＝'y'に指定されています。このため一度、データフレームのインデックス名を一度リセットして日時をdsへ、予測したい変数をｙへ変数名を変更します。"
      ],
      "metadata": {
        "id": "Thrav6W58GJe"
      }
    },
    {
      "cell_type": "code",
      "source": [
        "#[3]データフレームの整理\n",
        "nikkei.reset_index(inplace=True) #prophetの変数定義への変更するためリセット\n",
        "nikkei = nikkei.rename(columns={'Date': 'ds','Close': 'y'}) #prophetの変数定義への変更"
      ],
      "metadata": {
        "id": "jj42FjuQp31g"
      },
      "execution_count": 3,
      "outputs": []
    },
    {
      "cell_type": "markdown",
      "source": [
        "最後のセルでは、一行目で時系列モデルにProphetを使用する指示を与えます。二行目においてヒストリカル・データをフィッティングし、三行目で予測期間を指定します。これらを実施した後、予測結果を保存し、可視化します。"
      ],
      "metadata": {
        "id": "LMPA_jS-8RFt"
      }
    },
    {
      "cell_type": "code",
      "source": [
        "#[4]2023年12月29日の日経平均株価の予測\n",
        "model = Prophet() #時系列モデルにprophetを採用：モデル名をmodel\n",
        "model.fit(nikkei) #データを時系列モデルにフィッティング\n",
        "future = model.make_future_dataframe(periods=365,freq=\"d\") #予測の期間と頻度の定義\n",
        "forecast = model.predict(future)#予測結果の保存\n",
        "model.plot(forecast)#可視化\n",
        "plt.show()"
      ],
      "metadata": {
        "id": "r4vLqrC0p5yS"
      },
      "execution_count": null,
      "outputs": []
    },
    {
      "cell_type": "markdown",
      "source": [
        "尚、予測結果の各データは下記により取得、保存できます。"
      ],
      "metadata": {
        "id": "fuLuG6Xb8sX8"
      }
    },
    {
      "cell_type": "code",
      "source": [
        "#[5]予測結果のデータ確認\n",
        "pd.set_option(\"display.max_rows\", len(forecast))\n",
        "forecast"
      ],
      "metadata": {
        "id": "PilxxuBuqHBR"
      },
      "execution_count": null,
      "outputs": []
    }
  ]
}