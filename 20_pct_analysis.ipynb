{
  "cells": [
    {
      "cell_type": "markdown",
      "metadata": {
        "id": "view-in-github",
        "colab_type": "text"
      },
      "source": [
        "<a href=\"https://colab.research.google.com/github/nagamamo/financial_data_science/blob/main/20_pct_analysis.ipynb\" target=\"_parent\"><img src=\"https://colab.research.google.com/assets/colab-badge.svg\" alt=\"Open In Colab\"/></a>"
      ]
    },
    {
      "cell_type": "markdown",
      "source": [
        "12. 企業財務データの多変量解析：主成分分析\n",
        "\n",
        "　本例では、東証上場企業の2021年決算データを用い、主成分分析による分析事例を示します。具体的には、上場企業の6つの財務指標データを集約して、その集約された主成分得点が多い企業がどの企業なのかを検証する手順を示します。"
      ],
      "metadata": {
        "id": "Wy6vMIcOvy7b"
      }
    },
    {
      "cell_type": "code",
      "source": [
        "#[1]ライブラリ読み込み\n",
        "import pandas as pd\n",
        "import matplotlib.pyplot as plt\n",
        "import numpy as np\n",
        "import sklearn\n",
        "from sklearn.decomposition import PCA"
      ],
      "metadata": {
        "id": "NuXb7QndwWox"
      },
      "execution_count": null,
      "outputs": []
    },
    {
      "cell_type": "markdown",
      "source": [
        ":"
      ],
      "metadata": {
        "id": "rnoH4xX5IIj0"
      }
    },
    {
      "cell_type": "markdown",
      "source": [
        "財務データのcsvファイルを読み込みます。"
      ],
      "metadata": {
        "id": "qrPyuS4WxATO"
      }
    },
    {
      "cell_type": "code",
      "source": [
        "#[2]企業財務データ(CSVファイル)の読み込み\n",
        "from google.colab import files\n",
        "uploaded = files.upload()"
      ],
      "metadata": {
        "id": "zuSLA9FB8KS2"
      },
      "execution_count": null,
      "outputs": []
    },
    {
      "cell_type": "markdown",
      "source": [
        "読み込んだCSVファイルを今度はpandasデータフレームの形式に転換します。"
      ],
      "metadata": {
        "id": "NErCO8UnxIos"
      }
    },
    {
      "cell_type": "code",
      "execution_count": null,
      "metadata": {
        "id": "XavpDfrSz_YY"
      },
      "outputs": [],
      "source": [
        "#[3]データフレームの作成\n",
        "import pandas as pd\n",
        "import io\n",
        "df = pd.read_csv(io.BytesIO(uploaded['jpn_firm_data2021.csv']))\n",
        "df.head()\n",
        "df2=df.drop('id',axis=1)\n",
        "df2"
      ]
    },
    {
      "cell_type": "markdown",
      "source": [
        "各財務指標の分布が多様であるため、標準偏差を共通化するデータの標準化を実施します。"
      ],
      "metadata": {
        "id": "DlsJeMtbxbE-"
      }
    },
    {
      "cell_type": "code",
      "source": [
        "#[4]標準化\n",
        "df2= df2.iloc[:, :].apply(lambda x: (x-x.mean())/x.std(), axis=0)\n",
        "df2.head()\n",
        "df2.describe()"
      ],
      "metadata": {
        "id": "x3WN9Q911sR6"
      },
      "execution_count": null,
      "outputs": []
    },
    {
      "cell_type": "markdown",
      "source": [
        "主成分分析を実施します。"
      ],
      "metadata": {
        "id": "5wNn7GXbxuAK"
      }
    },
    {
      "cell_type": "code",
      "execution_count": null,
      "metadata": {
        "id": "l7VDMeurqDFw"
      },
      "outputs": [],
      "source": [
        "#[5]主成分分析の実行\n",
        "from numpy.core.fromnumeric import searchsorted\n",
        "pca = PCA()\n",
        "pca.fit(df2)\n",
        "score= pca.transform(df2)\n",
        "score=pd.DataFrame(score,columns=[\"PC{}\".format(x + 1) for x in range(len(df2.columns))])\n",
        "score.insert(0, 'id', df['id'])\n",
        "score"
      ]
    },
    {
      "cell_type": "markdown",
      "source": [
        "基本的には以降の演算もpythonで進めた方がよいですが、Excelに保存する場合には下記のコードを実行します。"
      ],
      "metadata": {
        "id": "JueFGOsvxyzG"
      }
    },
    {
      "cell_type": "code",
      "source": [
        "#[6]標本企業別主成分得点の書き出し\n",
        "from google.colab import files\n",
        "score.to_csv('score.csv')\n",
        "files.download('score.csv')"
      ],
      "metadata": {
        "id": "UA3Tp14q5uph",
        "colab": {
          "base_uri": "https://localhost:8080/",
          "height": 17
        },
        "outputId": "276e7c59-bcd2-4a37-9363-1d2567188c18"
      },
      "execution_count": null,
      "outputs": [
        {
          "output_type": "display_data",
          "data": {
            "text/plain": [
              "<IPython.core.display.Javascript object>"
            ],
            "application/javascript": [
              "\n",
              "    async function download(id, filename, size) {\n",
              "      if (!google.colab.kernel.accessAllowed) {\n",
              "        return;\n",
              "      }\n",
              "      const div = document.createElement('div');\n",
              "      const label = document.createElement('label');\n",
              "      label.textContent = `Downloading \"${filename}\": `;\n",
              "      div.appendChild(label);\n",
              "      const progress = document.createElement('progress');\n",
              "      progress.max = size;\n",
              "      div.appendChild(progress);\n",
              "      document.body.appendChild(div);\n",
              "\n",
              "      const buffers = [];\n",
              "      let downloaded = 0;\n",
              "\n",
              "      const channel = await google.colab.kernel.comms.open(id);\n",
              "      // Send a message to notify the kernel that we're ready.\n",
              "      channel.send({})\n",
              "\n",
              "      for await (const message of channel.messages) {\n",
              "        // Send a message to notify the kernel that we're ready.\n",
              "        channel.send({})\n",
              "        if (message.buffers) {\n",
              "          for (const buffer of message.buffers) {\n",
              "            buffers.push(buffer);\n",
              "            downloaded += buffer.byteLength;\n",
              "            progress.value = downloaded;\n",
              "          }\n",
              "        }\n",
              "      }\n",
              "      const blob = new Blob(buffers, {type: 'application/binary'});\n",
              "      const a = document.createElement('a');\n",
              "      a.href = window.URL.createObjectURL(blob);\n",
              "      a.download = filename;\n",
              "      div.appendChild(a);\n",
              "      a.click();\n",
              "      div.remove();\n",
              "    }\n",
              "  "
            ]
          },
          "metadata": {}
        },
        {
          "output_type": "display_data",
          "data": {
            "text/plain": [
              "<IPython.core.display.Javascript object>"
            ],
            "application/javascript": [
              "download(\"download_76d9edbb-dbfa-4335-be9f-760e197a05fd\", \"score.csv\", 445146)"
            ]
          },
          "metadata": {}
        }
      ]
    },
    {
      "cell_type": "markdown",
      "source": [
        "寄与率、累積寄与率を計算して、各主成分が、全財務データをどの程度まで説明できているのかを定量的に確認します。"
      ],
      "metadata": {
        "id": "yUrX9cxTyEaV"
      }
    },
    {
      "cell_type": "code",
      "execution_count": null,
      "metadata": {
        "id": "kPP-GkZ2UJJx"
      },
      "outputs": [],
      "source": [
        "#[7]寄与率の算出: numpyの場合\n",
        "pca.explained_variance_ratio_"
      ]
    },
    {
      "cell_type": "code",
      "source": [
        "#[8]寄与率の算出: pandasの場合\n",
        "pd.DataFrame(pca.explained_variance_ratio_, index=[\"PC{}\".format(x + 1) for x in range(len(df2.columns))])"
      ],
      "metadata": {
        "id": "XV_zDFNiPJ7b"
      },
      "execution_count": null,
      "outputs": []
    },
    {
      "cell_type": "code",
      "source": [
        "#[9]累積寄与率の算出: numpyの場合\n",
        "np.cumsum(pca.explained_variance_ratio_)"
      ],
      "metadata": {
        "id": "HkyrJLmUZn3i"
      },
      "execution_count": null,
      "outputs": []
    },
    {
      "cell_type": "code",
      "source": [
        "#[10]累積寄与率の算出: pandasの場合\n",
        "import matplotlib.ticker as ticker\n",
        "plt.gca().get_xaxis().set_major_locator(ticker.MaxNLocator(integer=True))\n",
        "plt.plot([0] + list( np.cumsum(pca.explained_variance_ratio_)), \"-o\")\n",
        "plt.xlabel(\"Number of principal components\")\n",
        "plt.ylabel(\"Cumulative contribution rate\")\n",
        "plt.grid()\n",
        "plt.show()"
      ],
      "metadata": {
        "id": "-6-xyBcEJNVO"
      },
      "execution_count": null,
      "outputs": []
    },
    {
      "cell_type": "markdown",
      "source": [
        "最後に因子負荷量を算出して、それぞれの「主成分」が①収益性、②安全性、③成長性、④その他、のどれを意味しているのかを確認します。"
      ],
      "metadata": {
        "id": "8dXPw29LyR4q"
      }
    },
    {
      "cell_type": "code",
      "execution_count": null,
      "metadata": {
        "id": "Q2q7FaJPUt-1"
      },
      "outputs": [],
      "source": [
        "#[11]]因子負荷量の算出： numpyの場合\n",
        "pca.components_"
      ]
    },
    {
      "cell_type": "code",
      "source": [
        "#[12]]因子負荷量の算出： pandasの場合\n",
        "pd.DataFrame(pca.components_, columns=df.columns[1:], index=[\"PC{}\".format(x + 1) for x in range(len(df2.columns))])"
      ],
      "metadata": {
        "id": "21JXkMPWJddw"
      },
      "execution_count": null,
      "outputs": []
    }
  ],
  "metadata": {
    "colab": {
      "provenance": [],
      "authorship_tag": "ABX9TyN0YYS0Je85obpX+apdPMph",
      "include_colab_link": true
    },
    "kernelspec": {
      "display_name": "Python 3",
      "name": "python3"
    },
    "language_info": {
      "name": "python"
    }
  },
  "nbformat": 4,
  "nbformat_minor": 0
}