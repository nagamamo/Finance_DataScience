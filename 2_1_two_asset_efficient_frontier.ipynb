{
  "cells": [
    {
      "cell_type": "markdown",
      "metadata": {
        "id": "view-in-github",
        "colab_type": "text"
      },
      "source": [
        "<a href=\"https://colab.research.google.com/github/nagamamo/financial_data_science/blob/main/2_1_two_asset_efficient_frontier.ipynb\" target=\"_parent\"><img src=\"https://colab.research.google.com/assets/colab-badge.svg\" alt=\"Open In Colab\"/></a>"
      ]
    },
    {
      "cell_type": "markdown",
      "source": [
        "2.1　2資産の効率的フロンティアと最適資産構成\n",
        "\n",
        "　現代ポートフォリオ理論を学ぶする上での、最初の一里塚が、「効率的フロンディア」の導出です。本例では、まず学習用として、2資産の株価データから、そのリスク（標準偏差）と期待リターンを算出することにより、効率的フロンティアを導出します。"
      ],
      "metadata": {
        "id": "QnXf7gwauOGB"
      }
    },
    {
      "cell_type": "code",
      "source": [
        "#[1]ライブラリ読み込み\n",
        "import pandas as pd\n",
        "import numpy as np\n",
        "import matplotlib.pyplot as plt"
      ],
      "metadata": {
        "id": "Et2ZGJHLuOrO"
      },
      "execution_count": 1,
      "outputs": []
    },
    {
      "cell_type": "markdown",
      "source": [
        "　ライブラリの読み込み後、データはURLから株価データを取得します。本例では2019年1月1日から2021年12月31日までの、テンセント（700HK）と浙江吉利汽車控股（175.HK）の株価をデータフレーム（data）に格納します。このデータの日時データをインデックス化するためのコードが3行目です。"
      ],
      "metadata": {
        "id": "0JKFXQhtu_ph"
      }
    },
    {
      "cell_type": "code",
      "source": [
        "#[2]データ読込み\n",
        "url = \"https://github.com/nagamamo/data/blob/main/2_1_efrontier_data.csv?raw=true\"#Git-hubからCSVデータの入手\n",
        "data = pd.read_csv(url)#データフレームの作成\n",
        "df = data.set_index(\"Date\")#日時をインデックスへ変更"
      ],
      "metadata": {
        "id": "JWss4cDYT8M5"
      },
      "execution_count": 3,
      "outputs": []
    },
    {
      "cell_type": "markdown",
      "source": [
        "　この2種類の時系列データから、株価の平均リターン（Rp）を算出します。続いて平均リターン（Rp）と同様に、分散（VAR_Rp）、共分散（Cov_Rp）を算出します。平均リターン（Rp）、分散（VAR_Rp）、共分散（Cov_Rp）は、いずれも年率換算するため×250営業日を施します。"
      ],
      "metadata": {
        "id": "wiwN9VzWvsKC"
      }
    },
    {
      "cell_type": "code",
      "execution_count": 4,
      "metadata": {
        "id": "Jg0eyoa4HRof"
      },
      "outputs": [],
      "source": [
        "#[3]ポートフォリオ収益率の平均・分散・共分散の算出\n",
        "Rp=df.mean()*250 #年率データへ換算\n",
        "VAR_Rp=df.var()*250\n",
        "Cov_Rp=df['700.HK'].cov(df['175.HK'])*250"
      ]
    },
    {
      "cell_type": "markdown",
      "source": [
        "　算出された平均リターン（Rp）、分散（VAR_Rp）、共分散（Cov_Rp）を用いて資産構成比率別のポートフォリオ全体のリターンとリスク（標準偏差）を算出します。ここではnumpyのnp.(arrange)を用いることで、1％ずつテンセント（吉利汽車）株の資産比率を引き上げ（低下させ）、それぞれの資産配分比率時のリターンとリスク（標準偏差）を算出します。可視化する際の横軸はリスク（標準偏差）を用いるため、ポートフォリオ全体の分散Var Rp2はnp.sqrt(Var Rp2)により標準偏差へ再計算します。"
      ],
      "metadata": {
        "id": "FkVf4TyMv4MA"
      }
    },
    {
      "cell_type": "code",
      "execution_count": 5,
      "metadata": {
        "id": "ZeZ5LZFtOoQS"
      },
      "outputs": [],
      "source": [
        "#[4]資産比率別平均リターンの算出\n",
        "weights=np.arange(0,1.01,0.01) #比率0%から1%刻みで100%まで増加\n",
        "for i in np.arange(0,1.01,0.01):\n",
        "  E_Rp=weights*Rp[\"700.HK\"]+(1-weights)*Rp[\"175.HK\"] #各比率ごとに平均リターンの反復計算"
      ]
    },
    {
      "cell_type": "code",
      "execution_count": 6,
      "metadata": {
        "id": "6CbtdJCJPnbI"
      },
      "outputs": [],
      "source": [
        "#[5]資産比率別標準偏差の算出\n",
        "for i in np.arange(0,1.01,0.01):\n",
        "  Var_Rp2=weights*weights*VAR_Rp[\"700.HK\"]+(1-weights)*(1-weights)*VAR_Rp[\"175.HK\"]+2*weights*(1-weights)*Cov_Rp #各比率ごとに標準偏差の反復計算\n",
        "Sigma_Rp=np.sqrt(Var_Rp2)"
      ]
    },
    {
      "cell_type": "code",
      "execution_count": 7,
      "metadata": {
        "id": "47yyvzpbS_WU",
        "colab": {
          "base_uri": "https://localhost:8080/",
          "height": 298
        },
        "outputId": "9fa63ada-380a-4db5-cc94-e27bf43d3d51"
      },
      "outputs": [
        {
          "output_type": "execute_result",
          "data": {
            "text/plain": [
              "Text(0, 0.5, 'Expected Return')"
            ]
          },
          "metadata": {},
          "execution_count": 7
        },
        {
          "output_type": "display_data",
          "data": {
            "text/plain": [
              "<Figure size 432x288 with 1 Axes>"
            ],
            "image/png": "[encoded data removed]"
          },
          "metadata": {
            "needs_background": "light"
          }
        }
      ],
      "source": [
        "#[6]可視化\n",
        "plt.scatter(Sigma_Rp,E_Rp)#散布図の作成\n",
        "plt.xlabel(\"Risk\") #横軸ラベルの指定\n",
        "plt.ylabel(\"Expected Return\") #縦軸ラベルの指定"
      ]
    },
    {
      "cell_type": "markdown",
      "source": [
        "　次に、効率的フロンティアの算出に続き、資本市場線（Capital Market Line: CML）を導出します。上記までのソースコードを用いて、効率的フロンティアを描くことはできました。ところが、このままではリスクを最小化する資産の組み合わせの選択肢のうち、どの比率を選択すればよいかがわかりません。ここでは、まず、無リスク資産の金利が必要となりますので、一行目で香港ドル建て10年債利回りの金利を与えます。平均リターンと標準偏差の算出に際し、numpyを用いて算出した各資産ご比率ごとのリターンとリスクの値を、新しいpandasデータフレームdf1に格納します。これらのデータを用いてシャープレシオを算出します（s_ratio）。np.amax()を用いて、このデータから最も高いシャープレシオの抽出が可能となります（max_sr）。"
      ],
      "metadata": {
        "id": "zKQ-tqy2wRvW"
      }
    },
    {
      "cell_type": "code",
      "execution_count": 8,
      "metadata": {
        "id": "7uNvmeVtLbdl",
        "colab": {
          "base_uri": "https://localhost:8080/",
          "height": 424
        },
        "outputId": "7b2ef29e-6ffa-4705-be38-7138eb94454b"
      },
      "outputs": [
        {
          "output_type": "execute_result",
          "data": {
            "text/plain": [
              "     Ratio      Risk  Expected_Returns  Sharp_Ratio\n",
              "0     0.00  0.509680          0.316036     0.558126\n",
              "1     0.01  0.506100          0.314875     0.559780\n",
              "2     0.02  0.502540          0.313714     0.561435\n",
              "3     0.03  0.499001          0.312553     0.563091\n",
              "4     0.04  0.495483          0.311392     0.564745\n",
              "..     ...       ...               ...          ...\n",
              "96    0.96  0.348796          0.204575     0.496006\n",
              "97    0.97  0.349950          0.203414     0.491053\n",
              "98    0.98  0.351165          0.202253     0.486047\n",
              "99    0.99  0.352442          0.201092     0.480992\n",
              "100   1.00  0.353780          0.199931     0.475891\n",
              "\n",
              "[101 rows x 4 columns]"
            ],
            "text/html": [
              "\n",
              "  <div id=\"df-ce5c4c73-4b74-4a0c-8919-f8d1acc8a1f9\">\n",
              "    <div class=\"colab-df-container\">\n",
              "      <div>\n",
              "<style scoped>\n",
              "    .dataframe tbody tr th:only-of-type {\n",
              "        vertical-align: middle;\n",
              "    }\n",
              "\n",
              "    .dataframe tbody tr th {\n",
              "        vertical-align: top;\n",
              "    }\n",
              "\n",
              "    .dataframe thead th {\n",
              "        text-align: right;\n",
              "    }\n",
              "</style>\n",
              "<table border=\"1\" class=\"dataframe\">\n",
              "  <thead>\n",
              "    <tr style=\"text-align: right;\">\n",
              "      <th></th>\n",
              "      <th>Ratio</th>\n",
              "      <th>Risk</th>\n",
              "      <th>Expected_Returns</th>\n",
              "      <th>Sharp_Ratio</th>\n",
              "    </tr>\n",
              "  </thead>\n",
              "  <tbody>\n",
              "    <tr>\n",
              "      <th>0</th>\n",
              "      <td>0.00</td>\n",
              "      <td>0.509680</td>\n",
              "      <td>0.316036</td>\n",
              "      <td>0.558126</td>\n",
              "    </tr>\n",
              "    <tr>\n",
              "      <th>1</th>\n",
              "      <td>0.01</td>\n",
              "      <td>0.506100</td>\n",
              "      <td>0.314875</td>\n",
              "      <td>0.559780</td>\n",
              "    </tr>\n",
              "    <tr>\n",
              "      <th>2</th>\n",
              "      <td>0.02</td>\n",
              "      <td>0.502540</td>\n",
              "      <td>0.313714</td>\n",
              "      <td>0.561435</td>\n",
              "    </tr>\n",
              "    <tr>\n",
              "      <th>3</th>\n",
              "      <td>0.03</td>\n",
              "      <td>0.499001</td>\n",
              "      <td>0.312553</td>\n",
              "      <td>0.563091</td>\n",
              "    </tr>\n",
              "    <tr>\n",
              "      <th>4</th>\n",
              "      <td>0.04</td>\n",
              "      <td>0.495483</td>\n",
              "      <td>0.311392</td>\n",
              "      <td>0.564745</td>\n",
              "    </tr>\n",
              "    <tr>\n",
              "      <th>...</th>\n",
              "      <td>...</td>\n",
              "      <td>...</td>\n",
              "      <td>...</td>\n",
              "      <td>...</td>\n",
              "    </tr>\n",
              "    <tr>\n",
              "      <th>96</th>\n",
              "      <td>0.96</td>\n",
              "      <td>0.348796</td>\n",
              "      <td>0.204575</td>\n",
              "      <td>0.496006</td>\n",
              "    </tr>\n",
              "    <tr>\n",
              "      <th>97</th>\n",
              "      <td>0.97</td>\n",
              "      <td>0.349950</td>\n",
              "      <td>0.203414</td>\n",
              "      <td>0.491053</td>\n",
              "    </tr>\n",
              "    <tr>\n",
              "      <th>98</th>\n",
              "      <td>0.98</td>\n",
              "      <td>0.351165</td>\n",
              "      <td>0.202253</td>\n",
              "      <td>0.486047</td>\n",
              "    </tr>\n",
              "    <tr>\n",
              "      <th>99</th>\n",
              "      <td>0.99</td>\n",
              "      <td>0.352442</td>\n",
              "      <td>0.201092</td>\n",
              "      <td>0.480992</td>\n",
              "    </tr>\n",
              "    <tr>\n",
              "      <th>100</th>\n",
              "      <td>1.00</td>\n",
              "      <td>0.353780</td>\n",
              "      <td>0.199931</td>\n",
              "      <td>0.475891</td>\n",
              "    </tr>\n",
              "  </tbody>\n",
              "</table>\n",
              "<p>101 rows × 4 columns</p>\n",
              "</div>\n",
              "      <button class=\"colab-df-convert\" onclick=\"convertToInteractive('df-ce5c4c73-4b74-4a0c-8919-f8d1acc8a1f9')\"\n",
              "              title=\"Convert this dataframe to an interactive table.\"\n",
              "              style=\"display:none;\">\n",
              "        \n",
              "  <svg xmlns=\"http://www.w3.org/2000/svg\" height=\"24px\"viewBox=\"0 0 24 24\"\n",
              "       width=\"24px\">\n",
              "    <path d=\"M0 0h24v24H0V0z\" fill=\"none\"/>\n",
              "    <path d=\"M18.56 5.44l.94 2.06.94-2.06 2.06-.94-2.06-.94-.94-2.06-.94 2.06-2.06.94zm-11 1L8.5 8.5l.94-2.06 2.06-.94-2.06-.94L8.5 2.5l-.94 2.06-2.06.94zm10 10l.94 2.06.94-2.06 2.06-.94-2.06-.94-.94-2.06-.94 2.06-2.06.94z\"/><path d=\"M17.41 7.96l-1.37-1.37c-.4-.4-.92-.59-1.43-.59-.52 0-1.04.2-1.43.59L10.3 9.45l-7.72 7.72c-.78.78-.78 2.05 0 2.83L4 21.41c.39.39.9.59 1.41.59.51 0 1.02-.2 1.41-.59l7.78-7.78 2.81-2.81c.8-.78.8-2.07 0-2.86zM5.41 20L4 18.59l7.72-7.72 1.47 1.35L5.41 20z\"/>\n",
              "  </svg>\n",
              "      </button>\n",
              "      \n",
              "  <style>\n",
              "    .colab-df-container {\n",
              "      display:flex;\n",
              "      flex-wrap:wrap;\n",
              "      gap: 12px;\n",
              "    }\n",
              "\n",
              "    .colab-df-convert {\n",
              "      background-color: #E8F0FE;\n",
              "      border: none;\n",
              "      border-radius: 50%;\n",
              "      cursor: pointer;\n",
              "      display: none;\n",
              "      fill: #1967D2;\n",
              "      height: 32px;\n",
              "      padding: 0 0 0 0;\n",
              "      width: 32px;\n",
              "    }\n",
              "\n",
              "    .colab-df-convert:hover {\n",
              "      background-color: #E2EBFA;\n",
              "      box-shadow: 0px 1px 2px rgba(60, 64, 67, 0.3), 0px 1px 3px 1px rgba(60, 64, 67, 0.15);\n",
              "      fill: #174EA6;\n",
              "    }\n",
              "\n",
              "    [theme=dark] .colab-df-convert {\n",
              "      background-color: #3B4455;\n",
              "      fill: #D2E3FC;\n",
              "    }\n",
              "\n",
              "    [theme=dark] .colab-df-convert:hover {\n",
              "      background-color: #434B5C;\n",
              "      box-shadow: 0px 1px 3px 1px rgba(0, 0, 0, 0.15);\n",
              "      filter: drop-shadow(0px 1px 2px rgba(0, 0, 0, 0.3));\n",
              "      fill: #FFFFFF;\n",
              "    }\n",
              "  </style>\n",
              "\n",
              "      <script>\n",
              "        const buttonEl =\n",
              "          document.querySelector('#df-ce5c4c73-4b74-4a0c-8919-f8d1acc8a1f9 button.colab-df-convert');\n",
              "        buttonEl.style.display =\n",
              "          google.colab.kernel.accessAllowed ? 'block' : 'none';\n",
              "\n",
              "        async function convertToInteractive(key) {\n",
              "          const element = document.querySelector('#df-ce5c4c73-4b74-4a0c-8919-f8d1acc8a1f9');\n",
              "          const dataTable =\n",
              "            await google.colab.kernel.invokeFunction('convertToInteractive',\n",
              "                                                     [key], {});\n",
              "          if (!dataTable) return;\n",
              "\n",
              "          const docLinkHtml = 'Like what you see? Visit the ' +\n",
              "            '<a target=\"_blank\" href=https://colab.research.google.com/notebooks/data_table.ipynb>data table notebook</a>'\n",
              "            + ' to learn more about interactive tables.';\n",
              "          element.innerHTML = '';\n",
              "          dataTable['output_type'] = 'display_data';\n",
              "          await google.colab.output.renderOutput(dataTable, element);\n",
              "          const docLink = document.createElement('div');\n",
              "          docLink.innerHTML = docLinkHtml;\n",
              "          element.appendChild(docLink);\n",
              "        }\n",
              "      </script>\n",
              "    </div>\n",
              "  </div>\n",
              "  "
            ]
          },
          "metadata": {},
          "execution_count": 8
        }
      ],
      "source": [
        "#[7]シャープレシオの算出\n",
        "rf=0.03157 #無リスク資産の利回り(香港ドル10年債≒米ドル10年債)\n",
        "columns=['Ratio']\n",
        "mean_variance=pd.DataFrame(data=weights, columns=columns) #pandasデータ配列へ変換\n",
        "mean_variance['Risk'] = pd.DataFrame(Sigma_Rp)\n",
        "mean_variance['Expected_Returns'] = pd.DataFrame(E_Rp)\n",
        "mean_variance['Sharp_Ratio'] = pd.DataFrame((E_Rp-rf)/Sigma_Rp)\n",
        "s_ratio=(E_Rp-rf)/Sigma_Rp #シャープレシオの定義\n",
        "max_sr=np.amax(s_ratio) #シャープレシオ最大値の変数定義\n",
        "mean_variance"
      ]
    },
    {
      "cell_type": "markdown",
      "source": [
        "　続いて、すでに作成したmean_varianceのデータフレームを用いて、loc[mean_variance['Sharp_Ratio'].idxmax()]により、シャープレシオが最大となるテンセントと吉利汽車の資産構成比率、標準偏差、リターンを保存します。そして、この時の標準偏差（optimal.iloc[1,0]）、平均リターン（optimal.iloc[2,0]）の値を抽出して、それぞれを新しい変数名opt_risk、opt_returnと名付けます。"
      ],
      "metadata": {
        "id": "auVaP--Rwffb"
      }
    },
    {
      "cell_type": "code",
      "execution_count": 9,
      "metadata": {
        "id": "NHOMNJuP-xHe",
        "colab": {
          "base_uri": "https://localhost:8080/",
          "height": 175
        },
        "outputId": "dc578907-1a2e-42df-ef73-289067db931a"
      },
      "outputs": [
        {
          "output_type": "execute_result",
          "data": {
            "text/plain": [
              "                        49\n",
              "Ratio             0.490000\n",
              "Risk              0.368760\n",
              "Expected_Returns  0.259144\n",
              "Sharp_Ratio       0.617134"
            ],
            "text/html": [
              "\n",
              "  <div id=\"df-c50decaa-2b19-4b6a-9926-e8a84bb04f54\">\n",
              "    <div class=\"colab-df-container\">\n",
              "      <div>\n",
              "<style scoped>\n",
              "    .dataframe tbody tr th:only-of-type {\n",
              "        vertical-align: middle;\n",
              "    }\n",
              "\n",
              "    .dataframe tbody tr th {\n",
              "        vertical-align: top;\n",
              "    }\n",
              "\n",
              "    .dataframe thead th {\n",
              "        text-align: right;\n",
              "    }\n",
              "</style>\n",
              "<table border=\"1\" class=\"dataframe\">\n",
              "  <thead>\n",
              "    <tr style=\"text-align: right;\">\n",
              "      <th></th>\n",
              "      <th>49</th>\n",
              "    </tr>\n",
              "  </thead>\n",
              "  <tbody>\n",
              "    <tr>\n",
              "      <th>Ratio</th>\n",
              "      <td>0.490000</td>\n",
              "    </tr>\n",
              "    <tr>\n",
              "      <th>Risk</th>\n",
              "      <td>0.368760</td>\n",
              "    </tr>\n",
              "    <tr>\n",
              "      <th>Expected_Returns</th>\n",
              "      <td>0.259144</td>\n",
              "    </tr>\n",
              "    <tr>\n",
              "      <th>Sharp_Ratio</th>\n",
              "      <td>0.617134</td>\n",
              "    </tr>\n",
              "  </tbody>\n",
              "</table>\n",
              "</div>\n",
              "      <button class=\"colab-df-convert\" onclick=\"convertToInteractive('df-c50decaa-2b19-4b6a-9926-e8a84bb04f54')\"\n",
              "              title=\"Convert this dataframe to an interactive table.\"\n",
              "              style=\"display:none;\">\n",
              "        \n",
              "  <svg xmlns=\"http://www.w3.org/2000/svg\" height=\"24px\"viewBox=\"0 0 24 24\"\n",
              "       width=\"24px\">\n",
              "    <path d=\"M0 0h24v24H0V0z\" fill=\"none\"/>\n",
              "    <path d=\"M18.56 5.44l.94 2.06.94-2.06 2.06-.94-2.06-.94-.94-2.06-.94 2.06-2.06.94zm-11 1L8.5 8.5l.94-2.06 2.06-.94-2.06-.94L8.5 2.5l-.94 2.06-2.06.94zm10 10l.94 2.06.94-2.06 2.06-.94-2.06-.94-.94-2.06-.94 2.06-2.06.94z\"/><path d=\"M17.41 7.96l-1.37-1.37c-.4-.4-.92-.59-1.43-.59-.52 0-1.04.2-1.43.59L10.3 9.45l-7.72 7.72c-.78.78-.78 2.05 0 2.83L4 21.41c.39.39.9.59 1.41.59.51 0 1.02-.2 1.41-.59l7.78-7.78 2.81-2.81c.8-.78.8-2.07 0-2.86zM5.41 20L4 18.59l7.72-7.72 1.47 1.35L5.41 20z\"/>\n",
              "  </svg>\n",
              "      </button>\n",
              "      \n",
              "  <style>\n",
              "    .colab-df-container {\n",
              "      display:flex;\n",
              "      flex-wrap:wrap;\n",
              "      gap: 12px;\n",
              "    }\n",
              "\n",
              "    .colab-df-convert {\n",
              "      background-color: #E8F0FE;\n",
              "      border: none;\n",
              "      border-radius: 50%;\n",
              "      cursor: pointer;\n",
              "      display: none;\n",
              "      fill: #1967D2;\n",
              "      height: 32px;\n",
              "      padding: 0 0 0 0;\n",
              "      width: 32px;\n",
              "    }\n",
              "\n",
              "    .colab-df-convert:hover {\n",
              "      background-color: #E2EBFA;\n",
              "      box-shadow: 0px 1px 2px rgba(60, 64, 67, 0.3), 0px 1px 3px 1px rgba(60, 64, 67, 0.15);\n",
              "      fill: #174EA6;\n",
              "    }\n",
              "\n",
              "    [theme=dark] .colab-df-convert {\n",
              "      background-color: #3B4455;\n",
              "      fill: #D2E3FC;\n",
              "    }\n",
              "\n",
              "    [theme=dark] .colab-df-convert:hover {\n",
              "      background-color: #434B5C;\n",
              "      box-shadow: 0px 1px 3px 1px rgba(0, 0, 0, 0.15);\n",
              "      filter: drop-shadow(0px 1px 2px rgba(0, 0, 0, 0.3));\n",
              "      fill: #FFFFFF;\n",
              "    }\n",
              "  </style>\n",
              "\n",
              "      <script>\n",
              "        const buttonEl =\n",
              "          document.querySelector('#df-c50decaa-2b19-4b6a-9926-e8a84bb04f54 button.colab-df-convert');\n",
              "        buttonEl.style.display =\n",
              "          google.colab.kernel.accessAllowed ? 'block' : 'none';\n",
              "\n",
              "        async function convertToInteractive(key) {\n",
              "          const element = document.querySelector('#df-c50decaa-2b19-4b6a-9926-e8a84bb04f54');\n",
              "          const dataTable =\n",
              "            await google.colab.kernel.invokeFunction('convertToInteractive',\n",
              "                                                     [key], {});\n",
              "          if (!dataTable) return;\n",
              "\n",
              "          const docLinkHtml = 'Like what you see? Visit the ' +\n",
              "            '<a target=\"_blank\" href=https://colab.research.google.com/notebooks/data_table.ipynb>data table notebook</a>'\n",
              "            + ' to learn more about interactive tables.';\n",
              "          element.innerHTML = '';\n",
              "          dataTable['output_type'] = 'display_data';\n",
              "          await google.colab.output.renderOutput(dataTable, element);\n",
              "          const docLink = document.createElement('div');\n",
              "          docLink.innerHTML = docLinkHtml;\n",
              "          element.appendChild(docLink);\n",
              "        }\n",
              "      </script>\n",
              "    </div>\n",
              "  </div>\n",
              "  "
            ]
          },
          "metadata": {},
          "execution_count": 9
        }
      ],
      "source": [
        "#[8]最適資産比率の導出\n",
        "optimal=pd.DataFrame(mean_variance.loc[mean_variance['Sharp_Ratio'].idxmax()]) #シャープレシオ最大時の比率・リスク・リターン\n",
        "opt_risk=optimal.iloc[1,0] #最適資産構成時のリスク\n",
        "opt_return=optimal.iloc[2,0] #最適資産構成時の期待リターン\n",
        "optimal"
      ]
    },
    {
      "cell_type": "markdown",
      "source": [
        "　最後に横軸にリスク（標準偏差）、縦軸に期待リターンを採る資本市場線（CML）を効率的フロンティアとともに可視化します。資本市場線（CML）の傾きは、シャープレシオに一致します。線形の資本市場線(CML)の傾きは一定ですが、重要な点は、この資本市場線(CML)が必ず効率的フロンティアと接することになり、この接点がテンセントと吉利汽車2資産の最適資産構成となることです。"
      ],
      "metadata": {
        "id": "qo5XgtJjw1pq"
      }
    },
    {
      "cell_type": "code",
      "execution_count": 10,
      "metadata": {
        "id": "Y-_gMDVXpd7F",
        "colab": {
          "base_uri": "https://localhost:8080/",
          "height": 295
        },
        "outputId": "759421cd-16b1-4052-ac77-6b187648d946"
      },
      "outputs": [
        {
          "output_type": "display_data",
          "data": {
            "text/plain": [
              "<Figure size 432x288 with 1 Axes>"
            ],
            "image/png": "[encoded data removed]"
          },
          "metadata": {
            "needs_background": "light"
          }
        }
      ],
      "source": [
        "#[9]資本市場線（Capital Market Line: CML）の導出\n",
        "def CML(rf,sharp_R,label):#無リスク資産・シャープレシオsharp_Rの関数定義\n",
        "    Risk = [x/100 for x in range(100)] #横軸Riskを設定\n",
        "    ExpectedReturn = [rf+max_sr*x for x in Risk] #縦軸Epを算出\n",
        "    plt.plot(Risk,ExpectedReturn,label=label)\n",
        "    plt.xlabel(\"Risk\")\n",
        "    plt.xlim(0.325,0.525) #横軸の幅設定\n",
        "    plt.ylabel(\"Expected Return\")\n",
        "    plt.ylim(0.18,0.33) #縦軸の幅設定\n",
        "    plt.title(\"Optimal Asset Composition\")\n",
        "    plt.plot(opt_risk,sharp_R,\"ro\",linestyle = \"--\",markersize=16) #資本市場線の作成\n",
        "\n",
        "CML(rf,opt_return,\"Capital Market Line\") #CML導出\n",
        "plt.scatter(Sigma_Rp,E_Rp)#効率的フロンティアの作成\n",
        "plt.legend()\n",
        "plt.show()"
      ]
    }
  ],
  "metadata": {
    "colab": {
      "provenance": [],
      "include_colab_link": true
    },
    "kernelspec": {
      "display_name": "Python 3",
      "name": "python3"
    },
    "language_info": {
      "name": "python"
    }
  },
  "nbformat": 4,
  "nbformat_minor": 0
}