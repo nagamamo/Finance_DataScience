{
  "nbformat": 4,
  "nbformat_minor": 0,
  "metadata": {
    "colab": {
      "provenance": [],
      "authorship_tag": "ABX9TyMVm8KYbCango+h2RRs/R0l",
      "include_colab_link": true
    },
    "kernelspec": {
      "name": "python3",
      "display_name": "Python 3"
    },
    "language_info": {
      "name": "python"
    }
  },
  "cells": [
    {
      "cell_type": "markdown",
      "metadata": {
        "id": "view-in-github",
        "colab_type": "text"
      },
      "source": [
        "<a href=\"https://colab.research.google.com/github/nagamamo/financial_data_science/blob/main/8_1_nelson_siegel_model.ipynb\" target=\"_parent\"><img src=\"https://colab.research.google.com/assets/colab-badge.svg\" alt=\"Open In Colab\"/></a>"
      ]
    },
    {
      "cell_type": "markdown",
      "source": [
        "8.1　パラメトリック・モデルによるイールドカーブの推計\n",
        "\n",
        "　パラメトリック・モデルは、金利の期間構造を、それに影響を与える複数のパラメータを推計することで、イールドカーブの変動を説明するためのモデルです。もっともよく知られる手法が、米ワシントン大学（当時）のネルソン教授とシーゲル教授が開発したネルソン＝シーゲル・モデル（Nelson=Siegel Model）と呼ばれる手法です。ネルソン＝シーゲル・モデルでは、次のモデルを推計することで、金利の期間構造の変動を4つの要因に分解します。\n",
        "\n",
        "r(m) = β0+(β1+β2 ){1-exp⁡(-m⁄τ) }m⁄τ\n",
        "-β2 exp⁡(-m⁄τ)\n",
        "\n",
        "\n",
        "　ここでは、β0：長期要因、β1：短期要因、β2：中期要因のパラメータ、m：償還期間、τ：構造要因のパラメータ\n",
        "\n",
        "本例では、PyCurveによるこの実装事例を示します。"
      ],
      "metadata": {
        "id": "xr9P4Bro_cMb"
      }
    },
    {
      "cell_type": "code",
      "source": [
        "pip install PyCurve"
      ],
      "metadata": {
        "id": "JDb0eoKP_coh"
      },
      "execution_count": null,
      "outputs": []
    },
    {
      "cell_type": "markdown",
      "source": [
        "パッケージのインストールを行った後、PyCurveからネルソン＝シーゲル・モデル推計用のライブラリをnumpyとともにインポートします。"
      ],
      "metadata": {
        "id": "pCLpLdCSK_Q3"
      }
    },
    {
      "cell_type": "code",
      "source": [
        "#[1]ライブラリの読み込み\n",
        "from PyCurve.curve import Curve#PyCurveよりイールドカーブ分析ライブラリをインポート\n",
        "from PyCurve.nelson_siegel import NelsonSiegel#PyCurveよりNSモデル推計ライブラリをインポート\n",
        "import numpy as np"
      ],
      "metadata": {
        "id": "WbhnXE8L-xFR"
      },
      "execution_count": 2,
      "outputs": []
    },
    {
      "cell_type": "markdown",
      "source": [
        "　続いてイールドカーブの償還期間（time）と利回り（d_rate）の2変数の初期値を設定します。本例では、償還期間は最大30年としています。rateは直近の実績値を用います。"
      ],
      "metadata": {
        "id": "ihafm9KyLGB4"
      }
    },
    {
      "cell_type": "code",
      "source": [
        "#[2]データ初期値の設定\n",
        "time = np.array([0.25,0.5,0.75,1.,2.,3.,4.,5.,10.,15.,20.,25.,30.])#償還期間\n",
        "drate = np.array([-0.532,-0.530,-0.534,-0.516,-0.501,-0.498,-0.488,-0.313,-0.102,0.183,0.330,0.392,0.412])#直近の利回り\n",
        "curve = Curve(time,drate)#2変数によるイールドカーブの構築\n",
        "#curve1 = Curve(time,rate)#2変数によるイールドカーブの構築"
      ],
      "metadata": {
        "id": "xcCE6kEt-13r"
      },
      "execution_count": 3,
      "outputs": []
    },
    {
      "cell_type": "markdown",
      "source": [
        "　最後にパラメータの初期値β0、β1、β2、τを暫定的に与え、キャリブレートすることで、パラメータを推定します。"
      ],
      "metadata": {
        "id": "Bb8PjEwVLi4F"
      }
    },
    {
      "cell_type": "code",
      "source": [
        "#[3]ネルソン＝シーゲル・モデルの推計\n",
        "ns = NelsonSiegel(0.3,0.4,12,1)#パラメータの初期値を設定\n",
        "ns.calibrate(curve)#NSモデルの推計\n",
        "#ns.calibrate(curve1)#NSモデルの推計"
      ],
      "metadata": {
        "id": "E2y1wxOQ-7Z9",
        "colab": {
          "base_uri": "https://localhost:8080/"
        },
        "outputId": "240c62b0-a0c5-4ab4-939b-798c4ca2e434"
      },
      "execution_count": 4,
      "outputs": [
        {
          "output_type": "stream",
          "name": "stdout",
          "text": [
            "Nelson Siegel Model\n",
            "============================\n",
            "beta0 = 0.7520934553348047\n",
            "beta1 = -1.2558210273712136\n",
            "beta2 = -1.650443314839586\n",
            "tau = 3.1635962850984387\n",
            "____________________________\n",
            "============================\n",
            "Calibration Results\n",
            "============================\n",
            "CONVERGENCE: NORM_OF_PROJECTED_GRADIENT_<=_PGTOL\n",
            "Mean Squared Error 0.012469766603992022\n",
            "Number of Iterations 24\n",
            "____________________________\n"
          ]
        },
        {
          "output_type": "execute_result",
          "data": {
            "text/plain": [
              "  message: CONVERGENCE: NORM_OF_PROJECTED_GRADIENT_<=_PGTOL\n",
              "  success: True\n",
              "   status: 0\n",
              "      fun: 0.012469766603992022\n",
              "        x: [ 7.521e-01 -1.256e+00 -1.650e+00  3.164e+00]\n",
              "      nit: 24\n",
              "      jac: [ 4.461e-06 -3.432e-06  8.842e-07 -1.311e-06]\n",
              "     nfev: 135\n",
              "     njev: 27\n",
              " hess_inv: <4x4 LbfgsInvHessProduct with dtype=float64>"
            ]
          },
          "metadata": {},
          "execution_count": 4
        }
      ]
    }
  ]
}