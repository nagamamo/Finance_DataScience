{
  "nbformat": 4,
  "nbformat_minor": 0,
  "metadata": {
    "colab": {
      "provenance": [],
      "authorship_tag": "ABX9TyOCysdd313AMn9CAzfPbY8R",
      "include_colab_link": true
    },
    "kernelspec": {
      "name": "python3",
      "display_name": "Python 3"
    },
    "language_info": {
      "name": "python"
    }
  },
  "cells": [
    {
      "cell_type": "markdown",
      "metadata": {
        "id": "view-in-github",
        "colab_type": "text"
      },
      "source": [
        "<a href=\"https://colab.research.google.com/github/nagamamo/financial_data_science/blob/main/2_2_multiple_asset_efficient_frontier.ipynb\" target=\"_parent\"><img src=\"https://colab.research.google.com/assets/colab-badge.svg\" alt=\"Open In Colab\"/></a>"
      ]
    },
    {
      "cell_type": "markdown",
      "source": [
        "2.2　複数資産の最適資産構成比率\n",
        "\n",
        "　本例では、資産構成比率を無数に発生させることで、その臨界線を導出して効率的フロンティアを描くアプローチを採用します。以下の事例では、5資産の最適資産構成比率のソースコードを示しますが、[4]セル目の資産数(n＝5）を変更すれば、このソースコードを用いて10資産でも100資産でも、実装可能です。\n",
        "\n"
      ],
      "metadata": {
        "id": "QSlzUQCIeisX"
      }
    },
    {
      "cell_type": "code",
      "source": [
        "#[1]ライブラリ読み込み\n",
        "import pandas as pd\n",
        "import numpy as np\n",
        "import matplotlib.pyplot as plt"
      ],
      "metadata": {
        "id": "7Jou8e44esSz"
      },
      "execution_count": 1,
      "outputs": []
    },
    {
      "cell_type": "markdown",
      "source": [
        "　香港H株市場の時価総額上位銘柄、テンセント（700.HK）、浙江吉利汽車控股（175.HK）中国移動（チャイナ・モバイル、941.HK）、アリババ（9988.HK）、中国建設銀行（939.HK）の5資産の最適資産構成を算出します。これらのH株市場に上場される中国本土企業は、香港ドル建てで株式が発行され、市場で取引されます。"
      ],
      "metadata": {
        "id": "Dv2C6322fQ1m"
      }
    },
    {
      "cell_type": "code",
      "source": [
        "#[2]データ読込み\n",
        "url = \"https://github.com/nagamamo/data/blob/main/2_2_efrontier_data.csv?raw=true\"#Git-hubからCSVデータの入手\n",
        "df = pd.read_csv(url)#データフレームの作成\n",
        "df = df.set_index(\"Date\")#日時をインデックスへ変更"
      ],
      "metadata": {
        "id": "dXjrtSw5fZ4q"
      },
      "execution_count": 2,
      "outputs": []
    },
    {
      "cell_type": "markdown",
      "source": [
        "　2_1の2資産モデルの実装例と異なるのは、この[3]からです。まずここでは、資産数（n＝5）と組み合わせ比率の数(p＝10,000)を定義します。次に年率の平均リターン（Ep）と分散・共分散（Cov_Rp）を算出します。mean_variance=[]は、後で各組合せごとに算出する平均値・分散（共分散）を収納するための空配列です。weight_ratio=[]は、この各平均値・分散（共分散）に対応する各資産構成比率を格納するための空配列です。ticker_list=[]は同様に、各平均値・分散（共分散）に対応する各銘柄を保存するための空配列です。"
      ],
      "metadata": {
        "id": "ZAxuN6jCfr0H"
      }
    },
    {
      "cell_type": "code",
      "source": [
        "#[3]資産の数・反復回数の設定と平均リターン・リスクの算出\n",
        "n=5 #資産数\n",
        "p=10000 #組み合わせ比率の種類\n",
        "E_Rp=df.mean()*250 #全銘柄の平均リターン\n",
        "Cov_Rp = df.cov()*250 #全銘柄の分散共分散\n",
        "mean_variance=[] #リターンと分散値を格納するための空配列の準備\n",
        "weight_ratio=[] #資産構成比率を格納するための空配列の準備\n",
        "ticker_list=[] #銘柄リストを格納するための空配列の準備\n",
        "np.random.seed(101) #資産構成比率算出に際し乱数を発生させるための初期値"
      ],
      "metadata": {
        "id": "q7RuvBP_i-kM"
      },
      "execution_count": 3,
      "outputs": []
    },
    {
      "cell_type": "markdown",
      "source": [
        "　次のセルでは、p種類の資産組み合わせ比率をランダムに（本例ではp=10,000）作成して、p種類のポートフォリオの期待リターンとリスクの組合せを導出します。まず、n種類の銘柄のp種類のランダムな組み合わせのnumpy配列であるportfolio、その組み合わせ配列のweightsを1-2行目で定義します。続いて、生成されるランダムな組合せ比率を用いて、ポートフォリオ全体の期待リターンと分散共分散の計算をp回反復計算します。\n",
        "  算出された結果およびランダムに生成した諸比率、銘柄名は、「配列名.append()」により、ぞれぞれmean_variance、weight_ratio、ticker_listに保存します。この時点で、mean_varianceの２つの配列である期待リターンと分散をプロットすれば、n種類の資産の効率的フロンティアは描けます。\n"
      ],
      "metadata": {
        "id": "SxxIts16gLjQ"
      }
    },
    {
      "cell_type": "code",
      "source": [
        "#[4]資産の数・反復回数の設定と平均リターン・リスクの算出\n",
        "for i in range(p): #以下をp回反復\n",
        "  portfolio=np.random.choice(list(df.columns),n,replace=False) #ランダムな銘柄選択\n",
        "  weights=np.random.rand(n)#構成比率のランダムな組合せ\n",
        "  weights=weights/sum(weights)#構成比率上限が1であることを定義\n",
        "  total_variance=0\n",
        "  total_return=0\n",
        "  for i in range(len(portfolio)):#以下をポートフォリオの組合せごとに反復\n",
        "    total_return+=weights[i]* E_Rp.loc[portfolio[i]] #期待リターンの計算\n",
        "    for j in range(len(portfolio)):#以下をポートフォリオの組合せごとに反復\n",
        "      total_variance+=weights[i]*weights[j]*Cov_Rp.loc[portfolio[i],portfolio[j]] #分散共分散の計算\n",
        "  mean_variance.append([total_return,total_variance])#リターン・リスク結果の保存\n",
        "  weight_ratio.append(weights)#資産構成比率組合せ結果の保存\n",
        "  ticker_list.append(portfolio)#銘柄組合せ結果の保存"
      ],
      "metadata": {
        "id": "Z1HQMO6seDNR"
      },
      "execution_count": 4,
      "outputs": []
    },
    {
      "cell_type": "markdown",
      "source": [
        "　効率的フロンティアから、シャープレシオを算出し、その最大値が達成される期待リターン、リスク、資産構成比率を算出する手順は、2_1の2資産モデルの場合と同様です。"
      ],
      "metadata": {
        "id": "0OYx7dHoggbz"
      }
    },
    {
      "cell_type": "code",
      "source": [
        "#[5]最適資産構成時の期待リターン・リスクの算出\n",
        "rf=0.03157 #無リスク資産の利回り(香港ドル10年債≒米ドル10年債)\n",
        "columns =[\"return\", \"risk\"]\n",
        "mean_variance = pd.DataFrame(mean_variance,columns=columns)#pandasデータフレームへ変換\n",
        "mean_variance['Sharp_Ratio'] = pd.DataFrame((mean_variance['return']-rf)/mean_variance['risk'])\n",
        "mean_variance['index'] = mean_variance.reset_index().index\n",
        "optimal=pd.DataFrame(mean_variance.loc[mean_variance['Sharp_Ratio'].idxmax()])\n",
        "opt_index=optimal.iloc[3,0] #シャープレシオ最大値の行番号\n",
        "opt_risk=optimal.iloc[1,0]#シャープレシオ最大時のリスク\n",
        "opt_return=optimal.iloc[0,0]#シャープレシオ最大時の期待リターン\n",
        "max_sr=optimal.iloc[2,0] #シャープレシオ最大値"
      ],
      "metadata": {
        "id": "wqA0ZAi88RhT"
      },
      "execution_count": 5,
      "outputs": []
    },
    {
      "cell_type": "markdown",
      "source": [
        "　[5]では、シャープレシオ最大時の期待リターンとリスクが算出されました。これらはopt_return、opt_riskと入力すれば結果は出力できます。これらの期待リターン、リスクを実現する際の銘柄と組み合わせ比率のデータを[7]において整理します。"
      ],
      "metadata": {
        "id": "MRCcVs48gtDZ"
      }
    },
    {
      "cell_type": "code",
      "source": [
        "#[6]最適資産構成算出結果の後処理\n",
        "weight_ratio = pd.DataFrame(weight_ratio)#資産構成比率をpandasデータフレームへ変換\n",
        "opt_weights=weight_ratio.loc[opt_index]#最適資産構成比を抽出\n",
        "ticker_list = pd.DataFrame(ticker_list)#銘柄組合せをpandasデータフレームへ変換\n",
        "ticker_list2=ticker_list.loc[opt_index]#最適資産構成時の銘柄組合せを抽出\n",
        "asset_allocation = pd.DataFrame(index=[])#銘柄と最適資産構成比率を統合\n",
        "asset_allocation['tickers']=pd.DataFrame(ticker_list2)\n",
        "asset_allocation['ratio']=pd.DataFrame(opt_weights)\n",
        "plt.scatter(x=mean_variance['risk'],y=mean_variance['return'])#可視化"
      ],
      "metadata": {
        "id": "SJGIbbkgNWNX",
        "colab": {
          "base_uri": "https://localhost:8080/",
          "height": 283
        },
        "outputId": "f675d699-3768-4901-9780-33bfbdd36344"
      },
      "execution_count": 6,
      "outputs": [
        {
          "output_type": "execute_result",
          "data": {
            "text/plain": [
              "<matplotlib.collections.PathCollection at 0x7f5190c489a0>"
            ]
          },
          "metadata": {},
          "execution_count": 6
        },
        {
          "output_type": "display_data",
          "data": {
            "text/plain": [
              "<Figure size 432x288 with 1 Axes>"
            ],
            "image/png": "[encoded data removed]"
          },
          "metadata": {
            "needs_background": "light"
          }
        }
      ]
    },
    {
      "cell_type": "markdown",
      "source": [
        "　最後に効率的フロンティア、資本市場線、そしてその接点時の期待リターン、リスク、資産構成比率を表示します。 "
      ],
      "metadata": {
        "id": "XXJZAcRIg7b8"
      }
    },
    {
      "cell_type": "code",
      "source": [
        "#[7]最適資産構成算出結果の後処理\n",
        "def CML(rf,sharp_R,label):#無リスク資産・シャープレシオsharp_Rの関数定義\n",
        "    Risk = [x/100 for x in range(100)] #横軸Riskを設定\n",
        "    ExpectedReturn = [rf+max_sr*x for x in Risk] #縦軸Epを算出\n",
        "    plt.plot(Risk,ExpectedReturn,label=label)\n",
        "    plt.xlabel(\"Risk\")\n",
        "    plt.xlim(0.02,0.19) #横軸の幅設定\n",
        "    plt.ylabel(\"Expected Return\")\n",
        "    plt.ylim(-0.15,0.25) #縦軸の幅設定\n",
        "    plt.title(\"Optimal Asset Compotision\")\n",
        "    plt.plot(opt_risk,sharp_R,\"ro\",linestyle = \"--\",markersize=16) #資本市場線の作成\n",
        "\n",
        "CML(rf,opt_return,\"Capital Market Line\") #CML導出\n",
        "plt.scatter(x=mean_variance['risk'],y=mean_variance['return'])#効率的フロンティアの作成\n",
        "plt.legend()\n",
        "plt.show()\n",
        "print('期待リターン {:.4f}'.format(opt_return))\n",
        "print('リスク {:.4f}'.format(opt_risk))\n",
        "print('シャープレシオ {:.4f}'.format(max_sr))\n",
        "pd.options.display.precision = 4\n",
        "asset_allocation"
      ],
      "metadata": {
        "colab": {
          "base_uri": "https://localhost:8080/",
          "height": 538
        },
        "id": "t7Ii8y4eCyiG",
        "outputId": "29d807be-c8d5-4f7b-d80f-8ead5382aaaf"
      },
      "execution_count": 8,
      "outputs": [
        {
          "output_type": "display_data",
          "data": {
            "text/plain": [
              "<Figure size 432x288 with 1 Axes>"
            ],
            "image/png": "[encoded data removed]"
          },
          "metadata": {
            "needs_background": "light"
          }
        },
        {
          "output_type": "stream",
          "name": "stdout",
          "text": [
            "期待リターン 0.2085\n",
            "リスク 0.1300\n",
            "シャープレシオ 1.3609\n"
          ]
        },
        {
          "output_type": "execute_result",
          "data": {
            "text/plain": [
              "   tickers   ratio\n",
              "0   175.HK  0.4652\n",
              "1   939.HK  0.0861\n",
              "2   700.HK  0.3976\n",
              "3  9988.HK  0.0062\n",
              "4   941.HK  0.0449"
            ],
            "text/html": [
              "\n",
              "  <div id=\"df-7f288363-1c47-4666-8eb0-eec572b30be2\">\n",
              "    <div class=\"colab-df-container\">\n",
              "      <div>\n",
              "<style scoped>\n",
              "    .dataframe tbody tr th:only-of-type {\n",
              "        vertical-align: middle;\n",
              "    }\n",
              "\n",
              "    .dataframe tbody tr th {\n",
              "        vertical-align: top;\n",
              "    }\n",
              "\n",
              "    .dataframe thead th {\n",
              "        text-align: right;\n",
              "    }\n",
              "</style>\n",
              "<table border=\"1\" class=\"dataframe\">\n",
              "  <thead>\n",
              "    <tr style=\"text-align: right;\">\n",
              "      <th></th>\n",
              "      <th>tickers</th>\n",
              "      <th>ratio</th>\n",
              "    </tr>\n",
              "  </thead>\n",
              "  <tbody>\n",
              "    <tr>\n",
              "      <th>0</th>\n",
              "      <td>175.HK</td>\n",
              "      <td>0.4652</td>\n",
              "    </tr>\n",
              "    <tr>\n",
              "      <th>1</th>\n",
              "      <td>939.HK</td>\n",
              "      <td>0.0861</td>\n",
              "    </tr>\n",
              "    <tr>\n",
              "      <th>2</th>\n",
              "      <td>700.HK</td>\n",
              "      <td>0.3976</td>\n",
              "    </tr>\n",
              "    <tr>\n",
              "      <th>3</th>\n",
              "      <td>9988.HK</td>\n",
              "      <td>0.0062</td>\n",
              "    </tr>\n",
              "    <tr>\n",
              "      <th>4</th>\n",
              "      <td>941.HK</td>\n",
              "      <td>0.0449</td>\n",
              "    </tr>\n",
              "  </tbody>\n",
              "</table>\n",
              "</div>\n",
              "      <button class=\"colab-df-convert\" onclick=\"convertToInteractive('df-7f288363-1c47-4666-8eb0-eec572b30be2')\"\n",
              "              title=\"Convert this dataframe to an interactive table.\"\n",
              "              style=\"display:none;\">\n",
              "        \n",
              "  <svg xmlns=\"http://www.w3.org/2000/svg\" height=\"24px\"viewBox=\"0 0 24 24\"\n",
              "       width=\"24px\">\n",
              "    <path d=\"M0 0h24v24H0V0z\" fill=\"none\"/>\n",
              "    <path d=\"M18.56 5.44l.94 2.06.94-2.06 2.06-.94-2.06-.94-.94-2.06-.94 2.06-2.06.94zm-11 1L8.5 8.5l.94-2.06 2.06-.94-2.06-.94L8.5 2.5l-.94 2.06-2.06.94zm10 10l.94 2.06.94-2.06 2.06-.94-2.06-.94-.94-2.06-.94 2.06-2.06.94z\"/><path d=\"M17.41 7.96l-1.37-1.37c-.4-.4-.92-.59-1.43-.59-.52 0-1.04.2-1.43.59L10.3 9.45l-7.72 7.72c-.78.78-.78 2.05 0 2.83L4 21.41c.39.39.9.59 1.41.59.51 0 1.02-.2 1.41-.59l7.78-7.78 2.81-2.81c.8-.78.8-2.07 0-2.86zM5.41 20L4 18.59l7.72-7.72 1.47 1.35L5.41 20z\"/>\n",
              "  </svg>\n",
              "      </button>\n",
              "      \n",
              "  <style>\n",
              "    .colab-df-container {\n",
              "      display:flex;\n",
              "      flex-wrap:wrap;\n",
              "      gap: 12px;\n",
              "    }\n",
              "\n",
              "    .colab-df-convert {\n",
              "      background-color: #E8F0FE;\n",
              "      border: none;\n",
              "      border-radius: 50%;\n",
              "      cursor: pointer;\n",
              "      display: none;\n",
              "      fill: #1967D2;\n",
              "      height: 32px;\n",
              "      padding: 0 0 0 0;\n",
              "      width: 32px;\n",
              "    }\n",
              "\n",
              "    .colab-df-convert:hover {\n",
              "      background-color: #E2EBFA;\n",
              "      box-shadow: 0px 1px 2px rgba(60, 64, 67, 0.3), 0px 1px 3px 1px rgba(60, 64, 67, 0.15);\n",
              "      fill: #174EA6;\n",
              "    }\n",
              "\n",
              "    [theme=dark] .colab-df-convert {\n",
              "      background-color: #3B4455;\n",
              "      fill: #D2E3FC;\n",
              "    }\n",
              "\n",
              "    [theme=dark] .colab-df-convert:hover {\n",
              "      background-color: #434B5C;\n",
              "      box-shadow: 0px 1px 3px 1px rgba(0, 0, 0, 0.15);\n",
              "      filter: drop-shadow(0px 1px 2px rgba(0, 0, 0, 0.3));\n",
              "      fill: #FFFFFF;\n",
              "    }\n",
              "  </style>\n",
              "\n",
              "      <script>\n",
              "        const buttonEl =\n",
              "          document.querySelector('#df-7f288363-1c47-4666-8eb0-eec572b30be2 button.colab-df-convert');\n",
              "        buttonEl.style.display =\n",
              "          google.colab.kernel.accessAllowed ? 'block' : 'none';\n",
              "\n",
              "        async function convertToInteractive(key) {\n",
              "          const element = document.querySelector('#df-7f288363-1c47-4666-8eb0-eec572b30be2');\n",
              "          const dataTable =\n",
              "            await google.colab.kernel.invokeFunction('convertToInteractive',\n",
              "                                                     [key], {});\n",
              "          if (!dataTable) return;\n",
              "\n",
              "          const docLinkHtml = 'Like what you see? Visit the ' +\n",
              "            '<a target=\"_blank\" href=https://colab.research.google.com/notebooks/data_table.ipynb>data table notebook</a>'\n",
              "            + ' to learn more about interactive tables.';\n",
              "          element.innerHTML = '';\n",
              "          dataTable['output_type'] = 'display_data';\n",
              "          await google.colab.output.renderOutput(dataTable, element);\n",
              "          const docLink = document.createElement('div');\n",
              "          docLink.innerHTML = docLinkHtml;\n",
              "          element.appendChild(docLink);\n",
              "        }\n",
              "      </script>\n",
              "    </div>\n",
              "  </div>\n",
              "  "
            ]
          },
          "metadata": {},
          "execution_count": 8
        }
      ]
    }
  ]
}