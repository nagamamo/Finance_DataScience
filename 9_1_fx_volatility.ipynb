{
  "nbformat": 4,
  "nbformat_minor": 0,
  "metadata": {
    "colab": {
      "provenance": [],
      "authorship_tag": "ABX9TyNNAvTMMq6X9AcQB3lAIO4v",
      "include_colab_link": true
    },
    "kernelspec": {
      "name": "python3",
      "display_name": "Python 3"
    },
    "language_info": {
      "name": "python"
    }
  },
  "cells": [
    {
      "cell_type": "markdown",
      "metadata": {
        "id": "view-in-github",
        "colab_type": "text"
      },
      "source": [
        "<a href=\"https://colab.research.google.com/github/nagamamo/financial_data_science/blob/main/9_1_fx_volatility.ipynb\" target=\"_parent\"><img src=\"https://colab.research.google.com/assets/colab-badge.svg\" alt=\"Open In Colab\"/></a>"
      ]
    },
    {
      "cell_type": "markdown",
      "source": [
        "9.1　為替レート変動の測定\n",
        "\n",
        "　米セントルイス連邦銀行のウェブサイトを利用して為替レート日次データを取得することで、世界36カ国の為替変動ボラティリティを、下記のソースコードにより算出することができます。以下では、19ヵ国・地域の対USドルレートのデータを用いて、通貨制度別の為替変動ボラティリティの算出例を示します。この例では、数値演算のためのpandas、時系列データの期間指定のためのdatetime、図表作成のためのmatplotlibのライブラリをインポートします。\n"
      ],
      "metadata": {
        "id": "PweJwhvYk9iO"
      }
    },
    {
      "cell_type": "code",
      "source": [
        "#[1]ライブラリの読み込み\n",
        "import pandas_datareader as data\n",
        "import pandas as pd\n",
        "import datetime\n",
        "import numpy as np\n",
        "import matplotlib.pyplot as plt"
      ],
      "metadata": {
        "id": "73o8F8CllbZk"
      },
      "execution_count": 5,
      "outputs": []
    },
    {
      "cell_type": "markdown",
      "source": [
        "　続いて、米セントルイス連邦銀行のデータベースから、19カ国・地域の対USドル為替レート日次データを取得します。"
      ],
      "metadata": {
        "id": "8z6Kg51klgdO"
      }
    },
    {
      "cell_type": "code",
      "source": [
        "#[2]通貨コードと標本期間の指定\n",
        "tickers=['DEXJPUS','DEXCAUS','DEXMXUS','DEXBZUS','DEXUSEU','DEXUSUK','DEXSZUS','DEXSDUS','DEXNOUS','DEXDNUS','DEXCHUS','DEXHKUS','DEXKOUS','DEXTAUS','DEXSIUS','DEXMAUS','DEXTHUS','DEXINUS','DEXUSAL','DEXUSNZ','DEXSFUS'] #通貨コードの指定\n",
        "start=datetime.date(1973,1,1)#標本期間を1973年1月1日から\n",
        "end=datetime.date(2022,12,31)#2022年12月31日までに指定\n",
        "data=data.DataReader(tickers,'fred',start=start,end=end)\n",
        "currency_list=['JPY_USD','CND_USD','MXP_USD','BZR_USD','USD_EUR','USD_GBP','CHF_USD','SWK_USD','NWK_USD','DKK_USD','CNY_USD','HKD_USD','KRW_USD','TWD_USD','SGD_USD','MYR_USD','THB_USD','IND_USD','USD_AUD','USD_NZD','SFR_USD'] #変数名再定義\n",
        "data.columns = currency_list"
      ],
      "metadata": {
        "id": "S5xL3Xn2YRa-"
      },
      "execution_count": 6,
      "outputs": []
    },
    {
      "cell_type": "markdown",
      "source": [
        "　標本期間は、日本円、ユーロ、英ポンド等、完全変動相場制下の通貨は1999年1月1日から2022年12月31日です。固定相場制（中国人民元、マレーシアリンギ）等、他の通貨制度は、採用期間が限られていますので、データセットを4種類準備します。その後、リターンを算出し、その標準偏差を年率で算出します。\n",
        "\n"
      ],
      "metadata": {
        "id": "v3WFcAi6lxlD"
      }
    },
    {
      "cell_type": "code",
      "source": [
        "#[3]制度期間別の為替変動ボラティリティ算出\n",
        "df1=data['1999/1/1':'2022/12/31'].pct_change().dropna().std()*250**0.5\n",
        "df2=data['1995/6/1':'2005/5/31'].pct_change().dropna().std()*250**0.5\n",
        "df3=data['1983/1/1':'2022/12/31'].pct_change().dropna().std()*250**0.5\n",
        "df4=data['1998/11/1':'2005/5/31'].pct_change().dropna().std()*250**0.5"
      ],
      "metadata": {
        "id": "10bwEfoa0cSQ"
      },
      "execution_count": 9,
      "outputs": []
    },
    {
      "cell_type": "markdown",
      "source": [
        "　算出結果は下記の通りです。日本円、ユーロ、英ポンド、スイスフランなどの完全変動相場制の対USドルレートに比べ、人民元（固定相場制）、香港ドル（カレンシーボード制）、シンガポールドル（クローリング・バンド制）の変動ボラティリティが小さいことがわかります。"
      ],
      "metadata": {
        "id": "uuSdLG_YmZ6w"
      }
    },
    {
      "cell_type": "code",
      "source": [
        "#[4]為替変動ボラティリティの算出結果\n",
        "print('JPY per USD (1999-2022) =  %.4f'% df1['JPY_USD'])\n",
        "print('CND per USD (1999-2022) =  %.4f'% df1['CND_USD'])\n",
        "print('MXP per USD (1999-2022) =  %.4f'% df1['MXP_USD'])\n",
        "print('BZR per USD (1999-2022) =  %.4f'% df1['BZR_USD'])\n",
        "print('USD per EUR (1999-2022) =  %.4f'% df1['USD_EUR'])\n",
        "print('USD per GBP (1999-2022) =  %.4f'% df1['USD_GBP'])\n",
        "print('CHF per USD (1999-2022) =  %.4f'% df1['CHF_USD'])\n",
        "print('SWK per USD (1999-2022) =  %.4f'% df1['SWK_USD'])\n",
        "print('NWK per USD (1999-2022) =  %.4f'% df1['NWK_USD'])\n",
        "print('DKK per USD (1999-2022) =  %.4f'% df1['DKK_USD'])\n",
        "print('CNY per USD (1995-2005) =  %.4f'% df2['CNY_USD'])\n",
        "print('HKD per USD (1983-2022) =  %.4f'% df3['HKD_USD'])\n",
        "print('KRW per USD (1999-2022) =  %.4f'% df1['KRW_USD'])\n",
        "print('TWD per USD (1999-2022) =  %.4f'% df1['TWD_USD'])\n",
        "print('SGD per USD (1999-2022) =  %.4f'% df1['SGD_USD'])\n",
        "print('MYR per USD (1998-2005) =  %.4f'% df4['MYR_USD'])\n",
        "print('THB per USD (1999-2022) =  %.4f'% df1['THB_USD'])\n",
        "print('IND per USD (1999-2022) =  %.4f'% df1['IND_USD'])\n",
        "print('SFR per USD (1999-2022) =  %.4f'% df1['SFR_USD'])"
      ],
      "metadata": {
        "colab": {
          "base_uri": "https://localhost:8080/"
        },
        "id": "KnLHVUwBUVfh",
        "outputId": "8306303e-f95f-49c0-eee0-7225aa66f9d3"
      },
      "execution_count": null,
      "outputs": [
        {
          "output_type": "stream",
          "name": "stdout",
          "text": [
            "JPY per USD (1999-2022) =  0.0978\n",
            "CND per USD (1999-2022) =  0.0845\n",
            "MXP per USD (1999-2022) =  0.1086\n",
            "BZR per USD (1999-2022) =  0.1682\n",
            "USD per EUR (1999-2022) =  0.0919\n",
            "USD per GBP (1999-2022) =  0.0922\n",
            "CHF per USD (1999-2022) =  0.1015\n",
            "SWK per USD (1999-2022) =  0.1136\n",
            "NWK per USD (1999-2022) =  0.1192\n",
            "DKK per USD (1999-2022) =  0.0935\n",
            "CNY per USD (1995-2005) =  0.0011\n",
            "HKD per USD (1983-2022) =  0.0052\n",
            "KRW per USD (1999-2022) =  0.1014\n",
            "TWD per USD (1999-2022) =  0.0469\n",
            "SGD per USD (1999-2022) =  0.0501\n",
            "MYR per USD (1998-2005) =  0.0002\n",
            "THB per USD (1999-2022) =  0.0610\n",
            "IND per USD (1999-2022) =  0.0657\n",
            "SFR per USD (1999-2022) =  0.1629\n"
          ]
        }
      ]
    }
  ]
}