{
  "nbformat": 4,
  "nbformat_minor": 0,
  "metadata": {
    "colab": {
      "provenance": [],
      "include_colab_link": true
    },
    "kernelspec": {
      "name": "python3",
      "display_name": "Python 3"
    },
    "language_info": {
      "name": "python"
    }
  },
  "cells": [
    {
      "cell_type": "markdown",
      "metadata": {
        "id": "view-in-github",
        "colab_type": "text"
      },
      "source": [
        "<a href=\"https://colab.research.google.com/github/nagamamo/financial_data_science/blob/main/4_multi_factor_model.ipynb\" target=\"_parent\"><img src=\"https://colab.research.google.com/assets/colab-badge.svg\" alt=\"Open In Colab\"/></a>"
      ]
    },
    {
      "cell_type": "markdown",
      "source": [
        "4.　マルチファクター・モデルへの拡張\n",
        "\n",
        "　実際のマーケットの現場では、多くのCAPMアノマリーと呼ばれる現象が観察されています。先行研究では、このCAPMアノマリーが生じる理由として、小型株効果、バリュー株効果、モメンタム効果などの存在を実証的に明らかにしてきました。本例では、シングルファクター・モデルを拡張し、小型株効果とバリュー株効果の変数を加えたファーマ＝フレンチの３ファクター・モデルを実装例として説明します。\n",
        "\n",
        "　まず3ファクター・モデルに必要な小型株効果、バリュー株効果の代理変数を取得するためのパッケージをインストールします。"
      ],
      "metadata": {
        "id": "-17cfESH94Xu"
      }
    },
    {
      "cell_type": "code",
      "source": [
        "pip install getFamaFrenchFactors"
      ],
      "metadata": {
        "id": "E1ANyqPb94uA"
      },
      "execution_count": null,
      "outputs": []
    },
    {
      "cell_type": "markdown",
      "source": [
        "　本例では、数値分析のためのpandas、２社の株価を取得するためのpandas_datareader、datetime、回帰分析のためのstatsmodels、ファーマ＝フレンチ・ベンチマーク・データを取得するためのgetFamaFrenchFactors、の５種類のライブラリ、パッケージを読み込む。回帰分析は本章ではsklearnではなくstatsmodelsを用います。"
      ],
      "metadata": {
        "id": "sUdHOiC2-q5C"
      }
    },
    {
      "cell_type": "code",
      "source": [
        "#[1]ライブラリ読み込み\n",
        "import pandas as pd\n",
        "import pandas_datareader as data\n",
        "import datetime\n",
        "import statsmodels.api as sm\n",
        "import getFamaFrenchFactors as gff #マルチファクターモデル・データ取得ライブラリ"
      ],
      "metadata": {
        "id": "ROeMNJODseZG"
      },
      "execution_count": 41,
      "outputs": []
    },
    {
      "cell_type": "markdown",
      "source": [
        "　2銘柄の株価データは、テスラ（TSLA．US）と、ゼネラル・モータース（GM．US）のデータを、2012年年初から2022年末までの月次データを取得し、データフレーム名をdfとします。"
      ],
      "metadata": {
        "id": "hhZb440v_Mlj"
      }
    },
    {
      "cell_type": "code",
      "source": [
        "#[2]企業株価データの取得\n",
        "tickers=['TSLA.US','GM.US'] #証券コードの指定\n",
        "start=datetime.date(2012,1,1)#標本期間を2012年1月1日から\n",
        "end=datetime.date(2022,12,31)#2022年12月31日までに指定\n",
        "df=data.DataReader(tickers,'stooq',start=start,end=end).sort_values(by='Date',ascending=True)"
      ],
      "metadata": {
        "id": "uZ0bO20HWa6W"
      },
      "execution_count": 43,
      "outputs": []
    },
    {
      "cell_type": "code",
      "source": [
        "#[3]前処理\n",
        "df = df['Close'].dropna() #日次の終値のみのデータフレーム\n",
        "company_list=['Tesla','GM'] #変数名再定義\n",
        "df.columns = company_list\n",
        "df.describe() #記述統計量の算出"
      ],
      "metadata": {
        "id": "d3tMuTtytzyU"
      },
      "execution_count": null,
      "outputs": []
    },
    {
      "cell_type": "markdown",
      "source": [
        "　すでにインポートしたライブラリgetFamaFrenchFactors（gff）から、ファーマ＝フレンチ・ベンチマーク・データを取得します。具体的には、マーケット・ポートフォリオのリターンから無リスク資産利回りを差し引いた変数（Mkt-RF）、小型株効果の代理変数（SMB）、バリュー株効果の代理変数（HML）の３種類のデータを取得します。このデータは1926年7月から直近までのデータです。\n",
        "　2銘柄の株価データと3種類のファーマ＝フレンチ・ベンチマーク・データをmergeにより統合するため、後者のデータの日時の変数名を一度リセットして、’date_ff_factors’から’Date’へ変更します。データフレーム名dfと名付けられたデータセットのうち、本分析では調整後終値の月次データを用います。この理由は、getFamaFrenchFactors（gff）から取得する3種類のファーマ＝フレンチ・ベンチマーク・データが月次データであるためです。dfのデータを前月比に換算し、欠損値を除去し、新たなデータフレーム名をReturnsとします。その後、２つのデータセットの共通変数’Date’を用いて統合し、データフレーム名をFama_French_dataと名付けます。\n"
      ],
      "metadata": {
        "id": "YFYijBzz_jwv"
      }
    },
    {
      "cell_type": "code",
      "source": [
        "#[3]規模効果・バリュー効果データの取得\n",
        "Fama_French_3=gff.famaFrench3Factor(frequency='m') #月次データの取得\n",
        "Fama_French_3.rename(columns={\"date_ff_factors\":'Date'},inplace=True) #日付の前処理\n",
        "Fama_French_3.set_index('Date',inplace=True)\n",
        "Returns=df.resample('M').last().pct_change().dropna() #日次データの月次データへの変換と欠損値除去\n",
        "Fama_French_data=Fama_French_3.merge(Returns,on='Date') #企業データと規模効果・バリュー効果データの統合"
      ],
      "metadata": {
        "id": "7dj6g7RPsosV"
      },
      "execution_count": 48,
      "outputs": []
    },
    {
      "cell_type": "markdown",
      "source": [
        "　整理されたデータセットを用い、以下では、最小二乗法によりテスラ（TSLA．US）と、ゼネラル・モータース（GM．US）のリスクプレミアムの3ファクター・モデルを推計します。説明変数Xはマーケット・ポートフォリオ・リター（Mkt-RF）、小型株効果の代理変数（SMB）、バリュー株効果の代理変数（HML）の３種類を採用します。被説明変数にはテスラ（TSLA．US）、ゼネラル・モーターズ（GM．US）それぞれのリターンから無リスク資産利回りを引いた値を用います。"
      ],
      "metadata": {
        "id": "NzEQLbJB_58J"
      }
    },
    {
      "cell_type": "code",
      "source": [
        "#[4]マルチファクター・モデルの推計①\n",
        "X=Fama_French_data[['Mkt-RF','SMB','HML']]\n",
        "#X=Fama_French_data[['Mkt-RF']]\n",
        "y=Fama_French_data['Tesla']-Fama_French_data['RF']\n",
        "X=sm.add_constant(X)\n",
        "Fama_French_Model1=sm.OLS(y,X).fit()\n",
        "print(Fama_French_Model1.summary())"
      ],
      "metadata": {
        "id": "NOkTeGqevsJ3",
        "colab": {
          "base_uri": "https://localhost:8080/"
        },
        "outputId": "f05f9381-fd25-429a-a353-95eae58c1dcb"
      },
      "execution_count": 46,
      "outputs": [
        {
          "output_type": "stream",
          "name": "stdout",
          "text": [
            "                            OLS Regression Results                            \n",
            "==============================================================================\n",
            "Dep. Variable:                      y   R-squared:                       0.218\n",
            "Model:                            OLS   Adj. R-squared:                  0.199\n",
            "Method:                 Least Squares   F-statistic:                     11.62\n",
            "Date:                Wed, 21 Dec 2022   Prob (F-statistic):           9.11e-07\n",
            "Time:                        04:35:17   Log-Likelihood:                 52.544\n",
            "No. Observations:                 129   AIC:                            -97.09\n",
            "Df Residuals:                     125   BIC:                            -85.65\n",
            "Df Model:                           3                                         \n",
            "Covariance Type:            nonrobust                                         \n",
            "==============================================================================\n",
            "                 coef    std err          t      P>|t|      [0.025      0.975]\n",
            "------------------------------------------------------------------------------\n",
            "const          0.0328      0.015      2.208      0.029       0.003       0.062\n",
            "Mkt-RF         1.8172      0.351      5.179      0.000       1.123       2.512\n",
            "SMB            0.2741      0.610      0.450      0.654      -0.932       1.481\n",
            "HML           -0.9796      0.423     -2.317      0.022      -1.816      -0.143\n",
            "==============================================================================\n",
            "Omnibus:                       43.617   Durbin-Watson:                   1.618\n",
            "Prob(Omnibus):                  0.000   Jarque-Bera (JB):              112.312\n",
            "Skew:                           1.318   Prob(JB):                     4.09e-25\n",
            "Kurtosis:                       6.735   Cond. No.                         43.1\n",
            "==============================================================================\n",
            "\n",
            "Notes:\n",
            "[1] Standard Errors assume that the covariance matrix of the errors is correctly specified.\n"
          ]
        },
        {
          "output_type": "stream",
          "name": "stderr",
          "text": [
            "/usr/local/lib/python3.8/dist-packages/statsmodels/tsa/tsatools.py:142: FutureWarning: In a future version of pandas all arguments of concat except for the argument 'objs' will be keyword-only\n",
            "  x = pd.concat(x[::order], 1)\n"
          ]
        }
      ]
    },
    {
      "cell_type": "code",
      "source": [
        "#[5]マルチファクター・モデルの推計②\n",
        "X=Fama_French_data[['Mkt-RF','SMB','HML']]\n",
        "z=Fama_French_data['GM']-Fama_French_data['RF']\n",
        "X=sm.add_constant(X)\n",
        "Fama_French_Model2=sm.OLS(z,X).fit()\n",
        "print(Fama_French_Model2.summary())"
      ],
      "metadata": {
        "id": "5NzNlB62v1Ip",
        "colab": {
          "base_uri": "https://localhost:8080/"
        },
        "outputId": "c0270c09-260a-42f9-82e9-a22ac9641a8b"
      },
      "execution_count": 47,
      "outputs": [
        {
          "output_type": "stream",
          "name": "stdout",
          "text": [
            "                            OLS Regression Results                            \n",
            "==============================================================================\n",
            "Dep. Variable:                      y   R-squared:                       0.525\n",
            "Model:                            OLS   Adj. R-squared:                  0.514\n",
            "Method:                 Least Squares   F-statistic:                     46.12\n",
            "Date:                Wed, 21 Dec 2022   Prob (F-statistic):           3.89e-20\n",
            "Time:                        04:35:24   Log-Likelihood:                 178.05\n",
            "No. Observations:                 129   AIC:                            -348.1\n",
            "Df Residuals:                     125   BIC:                            -336.7\n",
            "Df Model:                           3                                         \n",
            "Covariance Type:            nonrobust                                         \n",
            "==============================================================================\n",
            "                 coef    std err          t      P>|t|      [0.025      0.975]\n",
            "------------------------------------------------------------------------------\n",
            "const         -0.0026      0.006     -0.465      0.643      -0.014       0.009\n",
            "Mkt-RF         1.1607      0.133      8.753      0.000       0.898       1.423\n",
            "SMB            0.7734      0.230      3.357      0.001       0.317       1.229\n",
            "HML            0.7104      0.160      4.446      0.000       0.394       1.027\n",
            "==============================================================================\n",
            "Omnibus:                        3.148   Durbin-Watson:                   2.117\n",
            "Prob(Omnibus):                  0.207   Jarque-Bera (JB):                2.664\n",
            "Skew:                           0.249   Prob(JB):                        0.264\n",
            "Kurtosis:                       3.498   Cond. No.                         43.1\n",
            "==============================================================================\n",
            "\n",
            "Notes:\n",
            "[1] Standard Errors assume that the covariance matrix of the errors is correctly specified.\n"
          ]
        },
        {
          "output_type": "stream",
          "name": "stderr",
          "text": [
            "/usr/local/lib/python3.8/dist-packages/statsmodels/tsa/tsatools.py:142: FutureWarning: In a future version of pandas all arguments of concat except for the argument 'objs' will be keyword-only\n",
            "  x = pd.concat(x[::order], 1)\n"
          ]
        }
      ]
    }
  ]
}