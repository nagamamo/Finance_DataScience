{
  "nbformat": 4,
  "nbformat_minor": 0,
  "metadata": {
    "colab": {
      "provenance": [],
      "include_colab_link": true
    },
    "kernelspec": {
      "name": "python3",
      "display_name": "Python 3"
    },
    "language_info": {
      "name": "python"
    }
  },
  "cells": [
    {
      "cell_type": "markdown",
      "metadata": {
        "id": "view-in-github",
        "colab_type": "text"
      },
      "source": [
        "<a href=\"https://colab.research.google.com/github/nagamamo/financial_data_science/blob/main/4_multi_factor_model.ipynb\" target=\"_parent\"><img src=\"https://colab.research.google.com/assets/colab-badge.svg\" alt=\"Open In Colab\"/></a>"
      ]
    },
    {
      "cell_type": "markdown",
      "source": [
        "4.　マルチファクター・モデルへの拡張\n",
        "\n",
        "　実際のマーケットの現場では、多くのCAPMアノマリーと呼ばれる現象が観察されています。先行研究では、このCAPMアノマリーが生じる理由として、小型株効果、バリュー株効果、モメンタム効果などの存在を実証的に明らかにしてきました。本例では、シングルファクター・モデルを拡張し、小型株効果とバリュー株効果の変数を加えたファーマ＝フレンチの３ファクター・モデルを実装例として説明します。\n",
        "\n",
        "　まず3ファクター・モデルに必要な小型株効果、バリュー株効果の代理変数を取得するためのパッケージをインストールします。"
      ],
      "metadata": {
        "id": "-17cfESH94Xu"
      }
    },
    {
      "cell_type": "code",
      "source": [
        "pip install getFamaFrenchFactors"
      ],
      "metadata": {
        "id": "E1ANyqPb94uA",
        "collapsed": true
      },
      "execution_count": null,
      "outputs": []
    },
    {
      "cell_type": "markdown",
      "source": [
        "　本例では、数値分析のためのpandas、２社の株価を取得するためのpandas_datareader、datetime、回帰分析のためのstatsmodels、ファーマ＝フレンチ・ベンチマーク・データを取得するためのgetFamaFrenchFactors、の５種類のライブラリ、パッケージを読み込む。回帰分析は本章ではsklearnではなくstatsmodelsを用います。"
      ],
      "metadata": {
        "id": "sUdHOiC2-q5C"
      }
    },
    {
      "cell_type": "code",
      "source": [
        "#[1]ライブラリ読み込み\n",
        "import pandas as pd\n",
        "import pandas_datareader as data\n",
        "import datetime\n",
        "import statsmodels.api as sm\n",
        "import getFamaFrenchFactors as gff #マルチファクターモデル・データ取得ライブラリ"
      ],
      "metadata": {
        "id": "ROeMNJODseZG"
      },
      "execution_count": 2,
      "outputs": []
    },
    {
      "cell_type": "markdown",
      "source": [
        "　2銘柄の株価データは、テスラ（TSLA．US）と、ゼネラル・モータース（GM．US）のデータを、2012年年初から2022年末までの月次データを取得し、データフレーム名をdfとします。"
      ],
      "metadata": {
        "id": "hhZb440v_Mlj"
      }
    },
    {
      "cell_type": "code",
      "source": [
        "#[2]企業株価データの取得\n",
        "tickers=['TSLA.US','GM.US'] #証券コードの指定\n",
        "start=datetime.date(2012,1,1)#標本期間を2012年1月1日から\n",
        "end=datetime.date(2022,12,31)#2022年12月31日までに指定\n",
        "df=data.DataReader(tickers,'stooq',start=start,end=end).sort_values(by='Date',ascending=True)"
      ],
      "metadata": {
        "id": "uZ0bO20HWa6W"
      },
      "execution_count": 3,
      "outputs": []
    },
    {
      "cell_type": "code",
      "source": [
        "#[3]前処理\n",
        "df = df['Close'] #日次の終値のみのデータフレーム\n",
        "company_list=['Tesla','GM'] #変数名再定義\n",
        "df.columns = company_list\n",
        "df.describe() #記述統計量の算出\n",
        "df"
      ],
      "metadata": {
        "id": "d3tMuTtytzyU"
      },
      "execution_count": null,
      "outputs": []
    },
    {
      "cell_type": "markdown",
      "source": [
        "　すでにインポートしたライブラリgetFamaFrenchFactors（gff）から、ファーマ＝フレンチ・ベンチマーク・データを取得します。具体的には、マーケット・ポートフォリオのリターンから無リスク資産利回りを差し引いた変数（Mkt-RF）、小型株効果の代理変数（SMB）、バリュー株効果の代理変数（HML）の３種類のデータを取得します。このデータは1926年7月から直近までのデータです。\n",
        "　2銘柄の株価データと3種類のファーマ＝フレンチ・ベンチマーク・データをmergeにより統合するため、後者のデータの日時の変数名を一度リセットして、’date_ff_factors’から’Date’へ変更します。データフレーム名dfと名付けられたデータセットのうち、本分析では調整後終値の月次データを用います。この理由は、getFamaFrenchFactors（gff）から取得する3種類のファーマ＝フレンチ・ベンチマーク・データが月次データであるためです。dfのデータを前月比に換算し、欠損値を除去し、新たなデータフレーム名をReturnsとします。その後、２つのデータセットの共通変数’Date’を用いて統合し、データフレーム名をFama_French_dataと名付けます。\n"
      ],
      "metadata": {
        "id": "YFYijBzz_jwv"
      }
    },
    {
      "cell_type": "code",
      "source": [
        "#[3]規模効果・バリュー効果データの取得\n",
        "Fama_French_3=gff.famaFrench3Factor(frequency='m') #月次データの取得\n",
        "Fama_French_3.rename(columns={\"date_ff_factors\":'Date'},inplace=True) #日付の前処理\n",
        "Fama_French_3.set_index('Date',inplace=True)\n",
        "Returns=df.resample('M').last().pct_change().dropna() #日次データの月次データへの変換と欠損値除去\n",
        "Fama_French_data=Fama_French_3.merge(Returns,on='Date') #企業データと規模効果・バリュー効果データの統合\n",
        "#Fama_French_data"
      ],
      "metadata": {
        "id": "7dj6g7RPsosV"
      },
      "execution_count": 5,
      "outputs": []
    },
    {
      "cell_type": "markdown",
      "source": [
        "　整理されたデータセットを用い、以下では、最小二乗法によりテスラ（TSLA．US）と、ゼネラル・モータース（GM．US）のリスクプレミアムの3ファクター・モデルを推計します。説明変数Xはマーケット・ポートフォリオ・リター（Mkt-RF）、小型株効果の代理変数（SMB）、バリュー株効果の代理変数（HML）の３種類を採用します。被説明変数にはテスラ（TSLA．US）、ゼネラル・モーターズ（GM．US）それぞれのリターンから無リスク資産利回りを引いた値を用います。"
      ],
      "metadata": {
        "id": "NzEQLbJB_58J"
      }
    },
    {
      "cell_type": "code",
      "source": [
        "#[4]マルチファクター・モデルの推計①\n",
        "X=Fama_French_data[['Mkt-RF','SMB','HML']]\n",
        "#X=Fama_French_data[['Mkt-RF']]\n",
        "y=Fama_French_data['Tesla']-Fama_French_data['RF']\n",
        "X=sm.add_constant(X)\n",
        "Fama_French_Model1=sm.OLS(y,X).fit()\n",
        "print(Fama_French_Model1.summary())"
      ],
      "metadata": {
        "id": "NOkTeGqevsJ3",
        "colab": {
          "base_uri": "https://localhost:8080/"
        },
        "outputId": "dcf08485-caa9-4b4b-a377-a5fd656d45f8"
      },
      "execution_count": 6,
      "outputs": [
        {
          "output_type": "stream",
          "name": "stdout",
          "text": [
            "                            OLS Regression Results                            \n",
            "==============================================================================\n",
            "Dep. Variable:                      y   R-squared:                       0.227\n",
            "Model:                            OLS   Adj. R-squared:                  0.209\n",
            "Method:                 Least Squares   F-statistic:                     12.44\n",
            "Date:                Sun, 19 May 2024   Prob (F-statistic):           3.49e-07\n",
            "Time:                        06:16:03   Log-Likelihood:                 51.923\n",
            "No. Observations:                 131   AIC:                            -95.85\n",
            "Df Residuals:                     127   BIC:                            -84.35\n",
            "Df Model:                           3                                         \n",
            "Covariance Type:            nonrobust                                         \n",
            "==============================================================================\n",
            "                 coef    std err          t      P>|t|      [0.025      0.975]\n",
            "------------------------------------------------------------------------------\n",
            "const          0.0287      0.015      1.924      0.057      -0.001       0.058\n",
            "Mkt-RF         1.8498      0.348      5.312      0.000       1.161       2.539\n",
            "SMB            0.3776      0.609      0.620      0.536      -0.828       1.583\n",
            "HML           -1.0330      0.427     -2.420      0.017      -1.878      -0.188\n",
            "==============================================================================\n",
            "Omnibus:                       41.868   Durbin-Watson:                   1.563\n",
            "Prob(Omnibus):                  0.000   Jarque-Bera (JB):              103.703\n",
            "Skew:                           1.264   Prob(JB):                     3.03e-23\n",
            "Kurtosis:                       6.551   Cond. No.                         42.9\n",
            "==============================================================================\n",
            "\n",
            "Notes:\n",
            "[1] Standard Errors assume that the covariance matrix of the errors is correctly specified.\n"
          ]
        }
      ]
    },
    {
      "cell_type": "code",
      "source": [
        "#[5]マルチファクター・モデルの推計②\n",
        "X=Fama_French_data[['Mkt-RF','SMB','HML']]\n",
        "z=Fama_French_data['GM']-Fama_French_data['RF']\n",
        "X=sm.add_constant(X)\n",
        "Fama_French_Model2=sm.OLS(z,X).fit()\n",
        "print(Fama_French_Model2.summary())\n",
        "#Fama_French_Model2.summary()"
      ],
      "metadata": {
        "id": "5NzNlB62v1Ip",
        "colab": {
          "base_uri": "https://localhost:8080/"
        },
        "outputId": "f183fc9a-d021-48e4-a78b-9b6acf098b4b"
      },
      "execution_count": 7,
      "outputs": [
        {
          "output_type": "stream",
          "name": "stdout",
          "text": [
            "                            OLS Regression Results                            \n",
            "==============================================================================\n",
            "Dep. Variable:                      y   R-squared:                       0.531\n",
            "Model:                            OLS   Adj. R-squared:                  0.520\n",
            "Method:                 Least Squares   F-statistic:                     47.93\n",
            "Date:                Sun, 19 May 2024   Prob (F-statistic):           8.76e-21\n",
            "Time:                        06:16:08   Log-Likelihood:                 180.48\n",
            "No. Observations:                 131   AIC:                            -353.0\n",
            "Df Residuals:                     127   BIC:                            -341.5\n",
            "Df Model:                           3                                         \n",
            "Covariance Type:            nonrobust                                         \n",
            "==============================================================================\n",
            "                 coef    std err          t      P>|t|      [0.025      0.975]\n",
            "------------------------------------------------------------------------------\n",
            "const         -0.0037      0.006     -0.663      0.509      -0.015       0.007\n",
            "Mkt-RF         1.1937      0.131      9.146      0.000       0.935       1.452\n",
            "SMB            0.7657      0.228      3.354      0.001       0.314       1.217\n",
            "HML            0.6989      0.160      4.369      0.000       0.382       1.015\n",
            "==============================================================================\n",
            "Omnibus:                        3.412   Durbin-Watson:                   2.111\n",
            "Prob(Omnibus):                  0.182   Jarque-Bera (JB):                2.971\n",
            "Skew:                           0.255   Prob(JB):                        0.226\n",
            "Kurtosis:                       3.534   Cond. No.                         42.9\n",
            "==============================================================================\n",
            "\n",
            "Notes:\n",
            "[1] Standard Errors assume that the covariance matrix of the errors is correctly specified.\n"
          ]
        }
      ]
    }
  ]
}