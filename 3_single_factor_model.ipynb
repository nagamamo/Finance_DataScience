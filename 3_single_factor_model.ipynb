{
  "nbformat": 4,
  "nbformat_minor": 0,
  "metadata": {
    "colab": {
      "provenance": [],
      "include_colab_link": true
    },
    "kernelspec": {
      "name": "python3",
      "display_name": "Python 3"
    },
    "language_info": {
      "name": "python"
    }
  },
  "cells": [
    {
      "cell_type": "markdown",
      "metadata": {
        "id": "view-in-github",
        "colab_type": "text"
      },
      "source": [
        "<a href=\"https://colab.research.google.com/github/nagamamo/financial_data_science/blob/main/3_single_factor_model.ipynb\" target=\"_parent\"><img src=\"https://colab.research.google.com/assets/colab-badge.svg\" alt=\"Open In Colab\"/></a>"
      ]
    },
    {
      "cell_type": "markdown",
      "source": [
        "3.1　CAPM理論の実装\n",
        "\n",
        "　本例では、2資産のベータ値を算出することで、2つの銘柄の期待リターンとリスクプレミアムを比較します。例として米ナスダック市場で株式公開される、21世紀を象徴する自動車メーカーのテスラ（TSLA．US）と、20世紀を代表する1908年創業のゼネラル・モータース（GM．US）の、米国自動車メーカーの株価を用います。将来価値が高いと見込まれるEVメーカーと、100年以上の販売実績を持つ老舗ガソリン車メーカーの株主資本コストの違いを比較する事例とも言えるでしょう。ライブラリは統計分析、数値演算用のためのpandas、numpy、データ読み込みを目的とするpandas datareader、標本期間設定のためのdatetime、図表作成のためのmatplotlib.pyplot、回帰分析のためのsklearnの5種類を読み込みます。"
      ],
      "metadata": {
        "id": "WDD7nZJ7nkig"
      }
    },
    {
      "cell_type": "code",
      "source": [
        "#[1]ライブラリの読み込み\n",
        "import pandas as pd #数値計算用ライブラリの読み込み\n",
        "import pandas_datareader as data #データ取得用ライブラリ\n",
        "import datetime\n",
        "import matplotlib.pyplot as plt #図表作成用ライブラリ\n",
        "import numpy as np #数値計算用ライブラリの読み込み\n",
        "from sklearn.linear_model import LinearRegression #回帰分析用ライブラリの読み込み"
      ],
      "metadata": {
        "id": "zNAfqEL7nlL3"
      },
      "execution_count": 1,
      "outputs": []
    },
    {
      "cell_type": "markdown",
      "source": [
        "　続いて、テスラ（TSLA.US）とゼネラル・モータース（GM．US）の株価日次データをpandas_datareaderを用いて取得します。取得する期間は、2012年年初から2022年年末までです。テスラ（TSLA.US）とゼネラル・モータース（GM．US）は、それぞれ取引市場がナスダック市場とニューヨーク市場で異なるため、市場全体の変動を示すマーケット指数には、ナスダック総合指数とダウ平均株価をそれぞれ用います。"
      ],
      "metadata": {
        "id": "nEXlFw_yobeC"
      }
    },
    {
      "cell_type": "code",
      "source": [
        "#[2]データ取得\n",
        "tickers=['TSLA.US','^NDQ','GM.US','^DJI'] #証券コードの指定\n",
        "start=datetime.date(2012,1,1)#標本期間を2019年1月1日から\n",
        "end=datetime.date(2022,11,30)#2021年12月31日までに指定\n",
        "df=data.DataReader(tickers,'stooq',start=start,end=end).sort_values(by='Date',ascending=True)"
      ],
      "metadata": {
        "id": "1oC0jP77hMLb"
      },
      "execution_count": 2,
      "outputs": []
    },
    {
      "cell_type": "markdown",
      "source": [
        "　取得した5種類の株価データから前日比を算出し、変化率の算出の際に発生した欠損値を取り除くソースコードが[3]です。ナスダック総合指数とダウ平均株価の変化率の平均値が、マーケット・ポートフォリオの期待リターンとなります。これらの期待リターンから無リスク資産である米国債の利回りを差し引いた値がマーケット・リスクプレミアムです。このマーケット・リスクプレミアムに、ベータ値を乗じた値に米国債の利回りを加えた値が、投資家がテスラ（TSLA.US）とゼネラル・モータース（GM．US）に求める期待リターン≒株主資本コストとなります。"
      ],
      "metadata": {
        "id": "8q_E1RWtoqwx"
      }
    },
    {
      "cell_type": "code",
      "source": [
        "#[3]前処理\n",
        "df = df['Close'].pct_change().dropna()*250 #前日比の算出 #日次の終値のみのデータフレーム\n",
        "company_list=['Tesla','Nasdaq','GM','DowJones'] #変数名再定義\n",
        "df.columns = company_list\n",
        "df.describe() #記述統計量の算出"
      ],
      "metadata": {
        "id": "85DiwtpIJr98"
      },
      "execution_count": null,
      "outputs": []
    },
    {
      "cell_type": "markdown",
      "source": [
        "　次のソースコードでは、テスラ（TSLA.US）とナスダック総合指数の日次株価変動率を単回帰分析することでテスラ社のベータ値を算出しています。二変数の単回帰分析によりベータ値βが直接推計可能となります。この実証モデルがシングル・ファクターモデルと呼ばれるのはこのためです。pandas_datareaderによりデータ取得した場合、その時系列データはpandasデータフレームに納められています。sklearnは、データの入出力にnumpy配列を前提としています。このため、本例では、説明変数と被説明変数を定義する共に、「.values」によりデータをpandasデータフレーム からnumpy配列へ変換します。\n"
      ],
      "metadata": {
        "id": "W2eQY0UIpEMO"
      }
    },
    {
      "cell_type": "code",
      "source": [
        "#[4]ベータ値の推計：テスラ社\n",
        "lr1 = LinearRegression()#最小二乗法推計を定義\n",
        "X = df[['Nasdaq']].values #説明変数の定義と配列変換\n",
        "Y = df[['Tesla']].values #被説明変数の定義と配列変換    \n",
        "X1=np.delete(X,0,0)#Numpy配列の欠損値除去\n",
        "Y1=np.delete(Y,0,0)#Numpy配列の欠損値の除去\n",
        "lr1.fit(X1, Y1)#理論値の導出 \n",
        "print('β =  %.4f'% lr1.coef_[0])#小数点以下4桁で係数値表示 \n",
        "print('intercept = %.4f'% lr1.intercept_)#定数項\n",
        "print('R_squared = %.4f '% lr1.score(X1,Y1))#決定係数"
      ],
      "metadata": {
        "id": "r1k59jXsKhx7",
        "colab": {
          "base_uri": "https://localhost:8080/"
        },
        "outputId": "962d7ee5-e571-4a7d-cc27-14da85c5b96f"
      },
      "execution_count": 4,
      "outputs": [
        {
          "output_type": "stream",
          "name": "stdout",
          "text": [
            "β =  1.4381\n",
            "intercept = 0.3614\n",
            "R_squared = 0.2628 \n"
          ]
        }
      ]
    },
    {
      "cell_type": "code",
      "source": [
        "#[5]ベータ値の推計：GM\n",
        "lr2 = LinearRegression()\n",
        "Z = df[['DowJones']].values\n",
        "W = df[['GM']].values\n",
        "X2=np.delete(Z,0,0)\n",
        "Y2=np.delete(W,0,0)\n",
        "lr2.fit(X2, Y2) \n",
        "print('β = %.4f'% lr2.coef_[0]) \n",
        "print('intercept = %.4f'% lr2.intercept_)\n",
        "print('R_squared = %.4f '% lr2.score(X1,Y1))                    "
      ],
      "metadata": {
        "id": "UXenHn9-qD_Y",
        "colab": {
          "base_uri": "https://localhost:8080/"
        },
        "outputId": "cb8509c6-5ae6-4ac5-d44a-49326151faee"
      },
      "execution_count": 5,
      "outputs": [
        {
          "output_type": "stream",
          "name": "stdout",
          "text": [
            "β = 1.2656\n",
            "intercept = 0.0041\n",
            "R_squared = 0.2572 \n"
          ]
        }
      ]
    },
    {
      "cell_type": "code",
      "source": [
        "#[6]可視化\n",
        "plt.scatter(X1,Y1,color ='deepskyblue')#原データのプロット（テスラ、ナスダック）\n",
        "plt.plot(X1, lr1.predict(X1), color = 'blue')#理論直線のプロット\n",
        "plt.scatter(X2, Y2, color = 'orange') #原データのプロット（GM、ダウ平均）\n",
        "plt.plot(X2, lr2.predict(X2), color = 'orangered') #理論直線をプロット\n",
        "plt.title('Beta: Tesla vs GM') \n",
        "plt.xlabel('Market Portfolio Return') #横軸ラベル\n",
        "plt.ylabel('Expected Return') #縦軸ラベル\n",
        "plt.grid() #グリッド線表示\n",
        "plt.show()"
      ],
      "metadata": {
        "id": "63sLHEdmUvef",
        "colab": {
          "base_uri": "https://localhost:8080/",
          "height": 295
        },
        "outputId": "307c4185-ac0b-4bbd-9757-0eca2ac948f6"
      },
      "execution_count": 6,
      "outputs": [
        {
          "output_type": "display_data",
          "data": {
            "text/plain": [
              "<Figure size 432x288 with 1 Axes>"
            ],
            "image/png": "[encoded data removed]"
          },
          "metadata": {
            "needs_background": "light"
          }
        }
      ]
    }
  ]
}