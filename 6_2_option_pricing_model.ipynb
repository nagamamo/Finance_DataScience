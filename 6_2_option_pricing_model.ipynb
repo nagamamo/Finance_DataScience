{
  "nbformat": 4,
  "nbformat_minor": 0,
  "metadata": {
    "colab": {
      "provenance": [],
      "authorship_tag": "ABX9TyMhzKpNDNVGLJ9VxXt5YbL1",
      "include_colab_link": true
    },
    "kernelspec": {
      "name": "python3",
      "display_name": "Python 3"
    },
    "language_info": {
      "name": "python"
    }
  },
  "cells": [
    {
      "cell_type": "markdown",
      "metadata": {
        "id": "view-in-github",
        "colab_type": "text"
      },
      "source": [
        "<a href=\"https://colab.research.google.com/github/nagamamo/financial_data_science/blob/main/6_2_option_pricing_model.ipynb\" target=\"_parent\"><img src=\"https://colab.research.google.com/assets/colab-badge.svg\" alt=\"Open In Colab\"/></a>"
      ]
    },
    {
      "cell_type": "markdown",
      "source": [
        "6.2　オプション価格理論の実装\n",
        "\n",
        "　本例では、オプション価格を算出するためのパッケージであるoption-price 0.2.0を用いてコールオプション価格の算出事例を示します。この算出に際し、Google Collaboratoryでは、option-priceのインストールは、個々のコードセルにおいて実行します。"
      ],
      "metadata": {
        "id": "uhQ64tgfh-Vo"
      }
    },
    {
      "cell_type": "code",
      "source": [
        "pip install option-price"
      ],
      "metadata": {
        "id": "Zs17X5KJh82o"
      },
      "execution_count": null,
      "outputs": []
    },
    {
      "cell_type": "markdown",
      "source": [
        "　パッケージのインストール後、3つのライブラリをインポートします。ひとつはoption-priceからオプション価格算出のためのライブラリOptionです。他の2つは数値計算用のpandasとnumpyです。"
      ],
      "metadata": {
        "id": "nTKJW9XPiWGV"
      }
    },
    {
      "cell_type": "code",
      "source": [
        "#[1]ライブラリの読み込み\n",
        "from optionprice import Option#オプション価格算出用ライブラリ\n",
        "import pandas as pd\n",
        "import numpy as np"
      ],
      "metadata": {
        "id": "qpsLS21wPc4j"
      },
      "execution_count": 2,
      "outputs": []
    },
    {
      "cell_type": "markdown",
      "source": [
        "　次に株価と金利の日次データを取得します。日経平均株価は2018年初から2022年末までの日次データをURLから取得します。このデータをpandasデータフレームnikkeiに保存し、numpyにより対数値の差分を計算してリターンを算出、そのデータフレーム名をd_nikkeiとします。加えて、オプション価格の算出に必要な日経平均株価と１カ月物金利の直近の値を、それぞれlast_nikkei、last_rateというデータフレーム名で保存します。"
      ],
      "metadata": {
        "id": "-Y3MkXvEiqbd"
      }
    },
    {
      "cell_type": "code",
      "source": [
        "#[2]データ読込み\n",
        "url = \"https://github.com/nagamamo/data/blob/main/5_nikkei225_data.csv?raw=true\"#Git-hubからCSVデータの入手\n",
        "nikkei = pd.read_csv(url)#データフレームの作成\n",
        "nikkei = nikkei.set_index(\"Date\")#日時をインデックスへ変更"
      ],
      "metadata": {
        "id": "kBPwi3hcdxMf"
      },
      "execution_count": 3,
      "outputs": []
    },
    {
      "cell_type": "code",
      "source": [
        "#[3]データ前処理\n",
        "d_nikkei=np.log(nikkei.nikkei).diff(1)\n",
        "last_nikkei=nikkei.nikkei[-1]\n",
        "last_rate=0.01"
      ],
      "metadata": {
        "id": "iM3tBGmfd7ed"
      },
      "execution_count": 4,
      "outputs": []
    },
    {
      "cell_type": "markdown",
      "source": [
        "　続いて、オプション価格を算出するための初期値を設定します。株価ｓ0は直近値であるlast_nikkeiを指定し、オプションの購入者が判断する行使価格は、ここでは日経平均株価29,000円と設定します。行使期間を30日間とし、これに合わせ無リスク資産金利は1カ月物金利last_rateを外生的に与えます 。最後に日経平均株価変動率d_nikkeiから標準偏差を算出し、この値をsigmaとします。"
      ],
      "metadata": {
        "id": "3K0U9R7ri_BH"
      }
    },
    {
      "cell_type": "code",
      "source": [
        "#[4]初期値の設定\n",
        "s0=last_nikkei#株価直近値を指定\n",
        "k=29000#行使価格\n",
        "r=last_rate/100#円金利直近値を指定\n",
        "days=30#行使期間\n",
        "sigma=np.std(d_nikkei)#株価標準偏差を算出"
      ],
      "metadata": {
        "id": "KiqtH3amtkSc"
      },
      "execution_count": 5,
      "outputs": []
    },
    {
      "cell_type": "code",
      "source": [
        "#[5]プット・オプション価格の算出\n",
        "#some_option = Option(european=True,kind='put',s0=s0,k=k,t=days,sigma=sigma,r=r,dv=0)#日数により期間を指定するケース                    "
      ],
      "metadata": {
        "id": "FrZZwrJ6PfxT"
      },
      "execution_count": null,
      "outputs": []
    },
    {
      "cell_type": "markdown",
      "source": [
        " 最後にOptionを用い、コール・オプション価格を算出します。以下のソースコードは、データフレーム名がsome_optionであり、kind='call'によりコール・オプション価格であることを指定しています。原資産価格（株価）の直近値s0、行使価格k、（予想）ボラティリティsigma、無リスク資産円金利1カ月r、行使期間daysと指定します。このケースでは、配当率はdv=0の「なし」としました。ヨーロピアン・オプション価格を算出する場合であれば、european=Trueとし、アメリカン・オプションの場合にはeuropean=Falseとします。"
      ],
      "metadata": {
        "id": "AQ93tDIHjRNL"
      }
    },
    {
      "cell_type": "code",
      "source": [
        "#[5]コール・オプション価格の算出\n",
        "some_option = Option(european=True,kind='call',s0=s0,k=k,sigma=sigma,r=r,t=days,dv=0)#日数により期間を指定するケース\n",
        "#some_option = Option(european=True,kind='call',s0=s0,k=k,sigma=sigma,r=r,start='2022-07-24',end='2022-08-23',dv=0)#日付により期間を指定するケース"
      ],
      "metadata": {
        "id": "7Ri-8bqUPyov"
      },
      "execution_count": 6,
      "outputs": []
    },
    {
      "cell_type": "markdown",
      "source": [
        "  算出結果は、Google Colabの場合、データフレーム名を記述すれば表示されます。本例では、オプション価格は1.241％と算出されています。"
      ],
      "metadata": {
        "id": "RaoTLi-SjlVf"
      }
    },
    {
      "cell_type": "code",
      "source": [
        "#[6]算出結果の表示\n",
        "print(some_option)"
      ],
      "metadata": {
        "colab": {
          "base_uri": "https://localhost:8080/"
        },
        "id": "cLyBVMPQRqK4",
        "outputId": "6a176526-17af-42c1-f4a3-8e734b4ac706"
      },
      "execution_count": 7,
      "outputs": [
        {
          "output_type": "stream",
          "name": "stdout",
          "text": [
            "Type:           European\n",
            "Kind:           call\n",
            "Price initial:  27968.99\n",
            "Price strike:   29000\n",
            "Volatility:     1.2409896519934491%\n",
            "Risk free rate: 0.01%\n",
            "Start Date:     2023-01-04\n",
            "Expire Date:    2023-02-03\n",
            "Time span:      30 days\n"
          ]
        }
      ]
    }
  ]
}